{
  "cells": [
    {
      "cell_type": "markdown",
      "metadata": {
        "id": "view-in-github",
        "colab_type": "text"
      },
      "source": [
        "<a href=\"https://colab.research.google.com/github/Mahabubjamil/ColabNotebook/blob/main/python__full_course.ipynb\" target=\"_parent\"><img src=\"https://colab.research.google.com/assets/colab-badge.svg\" alt=\"Open In Colab\"/></a>"
      ]
    },
    {
      "cell_type": "code",
      "execution_count": null,
      "metadata": {
        "colab": {
          "base_uri": "https://localhost:8080/",
          "height": 35
        },
        "id": "t97DHvZCMO7L",
        "outputId": "483b9b7f-b620-486b-8a04-7995234a6de5"
      },
      "outputs": [
        {
          "data": {
            "application/vnd.google.colaboratory.intrinsic+json": {
              "type": "string"
            },
            "text/plain": [
              "'ice cream'"
            ]
          },
          "execution_count": 1,
          "metadata": {},
          "output_type": "execute_result"
        }
      ],
      "source": [
        "text=\"ice cream\"\n",
        "text\n"
      ]
    },
    {
      "cell_type": "code",
      "execution_count": null,
      "metadata": {
        "colab": {
          "base_uri": "https://localhost:8080/",
          "height": 35
        },
        "id": "ey9zaUeeMeR-",
        "outputId": "6c4f3319-965a-4a51-c67e-01972f655c74"
      },
      "outputs": [
        {
          "data": {
            "application/vnd.google.colaboratory.intrinsic+json": {
              "type": "string"
            },
            "text/plain": [
              "'c'"
            ]
          },
          "execution_count": 2,
          "metadata": {},
          "output_type": "execute_result"
        }
      ],
      "source": [
        "text[1]"
      ]
    },
    {
      "cell_type": "code",
      "execution_count": null,
      "metadata": {
        "colab": {
          "base_uri": "https://localhost:8080/",
          "height": 35
        },
        "id": "u0A8lQV7Mr8c",
        "outputId": "c7479762-514a-46f7-90e6-8721ea72323e"
      },
      "outputs": [
        {
          "data": {
            "application/vnd.google.colaboratory.intrinsic+json": {
              "type": "string"
            },
            "text/plain": [
              "'ice'"
            ]
          },
          "execution_count": 5,
          "metadata": {},
          "output_type": "execute_result"
        }
      ],
      "source": [
        "text[0:3]"
      ]
    },
    {
      "cell_type": "code",
      "execution_count": null,
      "metadata": {
        "colab": {
          "base_uri": "https://localhost:8080/",
          "height": 35
        },
        "id": "DUyuZHGtNENR",
        "outputId": "e00fe526-d2da-444f-ec14-9841bb64191f"
      },
      "outputs": [
        {
          "data": {
            "application/vnd.google.colaboratory.intrinsic+json": {
              "type": "string"
            },
            "text/plain": [
              "'ice cream Burger'"
            ]
          },
          "execution_count": 11,
          "metadata": {},
          "output_type": "execute_result"
        }
      ],
      "source": [
        "text2 = \" Burger\"\n",
        "t= (text+text2)\n",
        "t"
      ]
    },
    {
      "cell_type": "code",
      "execution_count": null,
      "metadata": {
        "colab": {
          "base_uri": "https://localhost:8080/",
          "height": 35
        },
        "id": "Vik1e9gyNd2Z",
        "outputId": "7a1d3efb-3c8a-4a01-caeb-dee5f7716444"
      },
      "outputs": [
        {
          "data": {
            "application/vnd.google.colaboratory.intrinsic+json": {
              "type": "string"
            },
            "text/plain": [
              "'Bottoil\\nkushtia,\\nBnagladesh'"
            ]
          },
          "execution_count": 12,
          "metadata": {},
          "output_type": "execute_result"
        }
      ],
      "source": [
        "address= '''Bottoil\n",
        "kushtia,\n",
        "Bnagladesh'''\n",
        "address"
      ]
    },
    {
      "cell_type": "code",
      "execution_count": null,
      "metadata": {
        "colab": {
          "base_uri": "https://localhost:8080/",
          "height": 35
        },
        "id": "SJCR6kMSOFqA",
        "outputId": "5ec254bb-7f1b-4146-dc09-70ca003b5d64"
      },
      "outputs": [
        {
          "data": {
            "application/vnd.google.colaboratory.intrinsic+json": {
              "type": "string"
            },
            "text/plain": [
              "'24Bottoil\\nkushtia,\\nBnagladesh'"
            ]
          },
          "execution_count": 18,
          "metadata": {},
          "output_type": "execute_result"
        }
      ],
      "source": [
        "num=24\n",
        "str(num)\n",
        "str(num)+address"
      ]
    },
    {
      "cell_type": "markdown",
      "metadata": {
        "id": "G0GPdHC0O_sn"
      },
      "source": [
        "list"
      ]
    },
    {
      "cell_type": "code",
      "execution_count": null,
      "metadata": {
        "colab": {
          "base_uri": "https://localhost:8080/"
        },
        "id": "rMKqp2H_O_G-",
        "outputId": "33796621-2e0c-4afa-df44-4e6ca85568ac"
      },
      "outputs": [
        {
          "data": {
            "text/plain": [
              "['bread', 'Pasta']"
            ]
          },
          "execution_count": 22,
          "metadata": {},
          "output_type": "execute_result"
        }
      ],
      "source": [
        "item=[\"bread\",\"Pasta\",\"fruits\",\"Vegetables\"]\n",
        "item[0:2]"
      ]
    },
    {
      "cell_type": "code",
      "execution_count": null,
      "metadata": {
        "colab": {
          "base_uri": "https://localhost:8080/"
        },
        "id": "qAFj2F0GPnoF",
        "outputId": "63e8b9fe-4b69-4b8e-bfc1-bade9bd6a126"
      },
      "outputs": [
        {
          "data": {
            "text/plain": [
              "['rice', 'Pasta', 'fruits', 'Vegetables']"
            ]
          },
          "execution_count": 21,
          "metadata": {},
          "output_type": "execute_result"
        }
      ],
      "source": [
        "item[0]=\"rice\"\n",
        "item"
      ]
    },
    {
      "cell_type": "code",
      "execution_count": null,
      "metadata": {
        "colab": {
          "base_uri": "https://localhost:8080/",
          "height": 35
        },
        "id": "1aeWjZV0QF10",
        "outputId": "ebee7cbe-ce5b-4bd9-e92c-bf887fcf3266"
      },
      "outputs": [
        {
          "data": {
            "application/vnd.google.colaboratory.intrinsic+json": {
              "type": "string"
            },
            "text/plain": [
              "'Vegetables'"
            ]
          },
          "execution_count": 23,
          "metadata": {},
          "output_type": "execute_result"
        }
      ],
      "source": [
        "item[-1]"
      ]
    },
    {
      "cell_type": "code",
      "execution_count": null,
      "metadata": {
        "colab": {
          "base_uri": "https://localhost:8080/"
        },
        "id": "hIS_PJHNQIkL",
        "outputId": "e7074284-0a2f-45bb-a475-4bc8978ea9b8"
      },
      "outputs": [
        {
          "data": {
            "text/plain": [
              "['bread', 'Pasta', 'fruits', 'Vegetables', 'chips', 'chips', 'chips']"
            ]
          },
          "execution_count": 26,
          "metadata": {},
          "output_type": "execute_result"
        }
      ],
      "source": [
        "item.append(\"chips\")\n",
        "item"
      ]
    },
    {
      "cell_type": "code",
      "execution_count": null,
      "metadata": {
        "id": "VGdQP0lrQTfa"
      },
      "outputs": [],
      "source": [
        "item.insert(1,\"butter\")"
      ]
    },
    {
      "cell_type": "code",
      "execution_count": null,
      "metadata": {
        "colab": {
          "base_uri": "https://localhost:8080/"
        },
        "id": "evhCqCEWQloe",
        "outputId": "498fe1cc-96ec-4068-bee8-88ae289c3af4"
      },
      "outputs": [
        {
          "data": {
            "text/plain": [
              "['bread', 'butter', 'Pasta', 'fruits', 'Vegetables', 'chips', 'chips', 'chips']"
            ]
          },
          "execution_count": 28,
          "metadata": {},
          "output_type": "execute_result"
        }
      ],
      "source": [
        "item\n"
      ]
    },
    {
      "cell_type": "code",
      "execution_count": null,
      "metadata": {
        "id": "il-aDTBDQoX_"
      },
      "outputs": [],
      "source": [
        "bathroom_items=[\"shampoo\",\"shoap\"]\n",
        "total_items=(item+bathroom_items)"
      ]
    },
    {
      "cell_type": "code",
      "execution_count": null,
      "metadata": {
        "colab": {
          "base_uri": "https://localhost:8080/"
        },
        "id": "oz2JGtTKQ6Vb",
        "outputId": "f6c0368b-8ce9-4db3-cee9-35cd13dd18d0"
      },
      "outputs": [
        {
          "data": {
            "text/plain": [
              "['bread',\n",
              " 'butter',\n",
              " 'Pasta',\n",
              " 'fruits',\n",
              " 'Vegetables',\n",
              " 'chips',\n",
              " 'chips',\n",
              " 'chips',\n",
              " 'shampoo',\n",
              " 'shoap']"
            ]
          },
          "execution_count": 30,
          "metadata": {},
          "output_type": "execute_result"
        }
      ],
      "source": [
        "total_items"
      ]
    },
    {
      "cell_type": "code",
      "execution_count": null,
      "metadata": {
        "colab": {
          "base_uri": "https://localhost:8080/"
        },
        "id": "x4fbh5miQ9uo",
        "outputId": "675ee1b1-4e74-4818-bb7c-090d19e42ba4"
      },
      "outputs": [
        {
          "data": {
            "text/plain": [
              "10"
            ]
          },
          "execution_count": 31,
          "metadata": {},
          "output_type": "execute_result"
        }
      ],
      "source": [
        "len(total_items)"
      ]
    },
    {
      "cell_type": "code",
      "execution_count": null,
      "metadata": {
        "colab": {
          "base_uri": "https://localhost:8080/"
        },
        "id": "Z7pv-pMYRIl2",
        "outputId": "073bb3d2-b687-48e7-e6b8-24f490e8861d"
      },
      "outputs": [
        {
          "data": {
            "text/plain": [
              "True"
            ]
          },
          "execution_count": 32,
          "metadata": {},
          "output_type": "execute_result"
        }
      ],
      "source": [
        "\"shoap\" in total_items"
      ]
    },
    {
      "cell_type": "markdown",
      "metadata": {
        "id": "RmpNSu-7RXZP"
      },
      "source": [
        "If statement"
      ]
    },
    {
      "cell_type": "code",
      "execution_count": null,
      "metadata": {
        "colab": {
          "base_uri": "https://localhost:8080/"
        },
        "id": "Kk85XD93XvxK",
        "outputId": "ae5ae917-c321-4b19-beeb-a3cbbe6c938b"
      },
      "outputs": [
        {
          "name": "stdout",
          "output_type": "stream",
          "text": [
            "Enter a number :25\n"
          ]
        }
      ],
      "source": [
        "number=input(\"Enter a number :\")\n",
        "num= int(num)"
      ]
    },
    {
      "cell_type": "code",
      "execution_count": null,
      "metadata": {
        "colab": {
          "base_uri": "https://localhost:8080/"
        },
        "id": "vHK7djsnZAY3",
        "outputId": "41fa92ed-9475-41e7-e5b6-240869742efd"
      },
      "outputs": [
        {
          "name": "stdout",
          "output_type": "stream",
          "text": [
            "Enter a dish name :egg role\n",
            "its in the list\n",
            "Its a chainese dish\n"
          ]
        }
      ],
      "source": [
        "indian=[\"samosa\",\"daal\",\"naan\"]\n",
        "chinese=[\"egg role\",\"pot sticker\", \"fried rice\"]\n",
        "italian=[\"pizza\",\"pasta\",\"risotto\"]\n",
        "all_dishes= (indian+chinese+italian)\n",
        "dish=input(\"Enter a dish name :\")\n",
        "if dish in all_dishes:\n",
        "  print(\"its in the list\")\n",
        "  if dish in indian:\n",
        "    print(\"its an indian dish\")\n",
        "  elif dish in chinese:\n",
        "    print(\"Its a chainese dish\")\n",
        "  elif dish in italian:\n",
        "    print(\"its an italian dish\")\n",
        "else:\n",
        "  print(\"its out of the list\")\n",
        ""
      ]
    },
    {
      "cell_type": "markdown",
      "metadata": {
        "id": "vKrNE_7Oe4RU"
      },
      "source": [
        "for statement"
      ]
    },
    {
      "cell_type": "code",
      "execution_count": null,
      "metadata": {
        "colab": {
          "base_uri": "https://localhost:8080/"
        },
        "id": "ln5JFUHue1iz",
        "outputId": "b1bc32fd-00a8-4f86-90d0-eb5a7afe6600"
      },
      "outputs": [
        {
          "name": "stdout",
          "output_type": "stream",
          "text": [
            "13020\n"
          ]
        }
      ],
      "source": [
        "exp= [2340,2500,2100,3100,2980]\n",
        "total=0\n",
        "total1=0\n",
        "len(exp)\n",
        "for i in exp:\n",
        "  total= total + i\n",
        "print(total)"
      ]
    },
    {
      "cell_type": "code",
      "execution_count": null,
      "metadata": {
        "colab": {
          "base_uri": "https://localhost:8080/"
        },
        "id": "RX4RY_vCfQNQ",
        "outputId": "f8bf3551-85df-4a64-b157-50c413ab3e97"
      },
      "outputs": [
        {
          "data": {
            "text/plain": [
              "13020"
            ]
          },
          "execution_count": 48,
          "metadata": {},
          "output_type": "execute_result"
        }
      ],
      "source": [
        "for i in range(0,5):\n",
        "  total1 = total1+exp[i]\n",
        "total1\n"
      ]
    },
    {
      "cell_type": "code",
      "execution_count": null,
      "metadata": {
        "id": "SkoVy6FJK7ww"
      },
      "outputs": [],
      "source": [
        "for i in range (1,11):\n",
        "  print(i,\"natural numbers: \",i)\n",
        "\n"
      ]
    },
    {
      "cell_type": "code",
      "execution_count": null,
      "metadata": {
        "id": "B3VGB3tZL-3h"
      },
      "outputs": [],
      "source": [
        "i=1\n",
        "while(i<11):\n",
        "  print(i)\n",
        "  i= i+1"
      ]
    },
    {
      "cell_type": "code",
      "execution_count": null,
      "metadata": {
        "colab": {
          "base_uri": "https://localhost:8080/"
        },
        "id": "2xd2fIb7MXA7",
        "outputId": "7fac4459-35f2-41f0-d038-93a1b9dd89f0"
      },
      "outputs": [
        {
          "name": "stdout",
          "output_type": "stream",
          "text": [
            "1 \n",
            "1 2 \n",
            "1 2 3 \n",
            "1 2 3 4 \n",
            "1 2 3 4 5 \n"
          ]
        }
      ],
      "source": [
        "number=5\n",
        "for i in range(1,number+1,1):\n",
        "  for j in range(1,i+1):\n",
        "    print(j,end=\" \")\n",
        "  print(\"\")"
      ]
    },
    {
      "cell_type": "code",
      "execution_count": null,
      "metadata": {
        "colab": {
          "base_uri": "https://localhost:8080/"
        },
        "id": "ubzjv5OvpK_c",
        "outputId": "559916e3-5914-4810-8864-b1400f511a0e"
      },
      "outputs": [
        {
          "name": "stdout",
          "output_type": "stream",
          "text": [
            "1 \n",
            "1 2 \n",
            "1 2 3 \n",
            "1 2 3 4 \n",
            "1 2 3 4 5 \n",
            "1 2 3 4 5 6 \n",
            "1 2 3 4 5 6 7 \n",
            "1 2 3 4 5 6 7 8 \n",
            "1 2 3 4 5 6 7 8 9 \n",
            "1 2 3 4 5 6 7 8 9 10 \n"
          ]
        }
      ],
      "source": [
        "number= 10\n",
        "for i in range(1,number+1,1):\n",
        "  for j in range(1,i+1):\n",
        "    print(j,end=\" \")\n",
        "  print(\"\")"
      ]
    },
    {
      "cell_type": "code",
      "execution_count": null,
      "metadata": {
        "colab": {
          "base_uri": "https://localhost:8080/"
        },
        "id": "A0d_7iH6PPao",
        "outputId": "244c08f8-f9ad-43e2-b68c-2a1a96693bbc"
      },
      "outputs": [
        {
          "name": "stdout",
          "output_type": "stream",
          "text": [
            "1 \n",
            "1 2 \n",
            "1 2 3 \n",
            "1 2 3 4 \n",
            "1 2 3 4 5 \n",
            "1 2 3 4 5 6 \n"
          ]
        }
      ],
      "source": [
        "num=6\n",
        "for i in range(1,num+1,1):\n",
        "  for j in range(1,i+1):\n",
        "    print(j,end=\" \")\n",
        "  print(\"\")\n"
      ]
    },
    {
      "cell_type": "code",
      "execution_count": null,
      "metadata": {
        "colab": {
          "base_uri": "https://localhost:8080/"
        },
        "id": "HPeVJQr-RnxN",
        "outputId": "cc2d825f-0aa8-4d33-d189-182ec3fc2044"
      },
      "outputs": [
        {
          "name": "stdout",
          "output_type": "stream",
          "text": [
            "2\n",
            "4\n",
            "6\n",
            "8\n",
            "10\n",
            "12\n",
            "14\n",
            "16\n",
            "18\n",
            "20\n"
          ]
        }
      ],
      "source": [
        "num=2\n",
        "for i in range(1,11):\n",
        "  t=i*num\n",
        "  print(t)"
      ]
    },
    {
      "cell_type": "code",
      "execution_count": null,
      "metadata": {
        "colab": {
          "base_uri": "https://localhost:8080/"
        },
        "id": "SsB7LttaS04m",
        "outputId": "41603241-dc6e-4a41-a61e-24e4b3fc687b"
      },
      "outputs": [
        {
          "name": "stdout",
          "output_type": "stream",
          "text": [
            "75\n",
            "150\n",
            "145\n",
            "50\n"
          ]
        }
      ],
      "source": [
        "numbers= [ 12, 75,150,180,145,525,50]\n",
        "for i in numbers:\n",
        "  if(i %5 ==0):\n",
        "    if(i>150):\n",
        "      continue\n",
        "    elif(i>500):\n",
        "      break\n",
        "    else:\n",
        "      print(i)"
      ]
    },
    {
      "cell_type": "code",
      "execution_count": null,
      "metadata": {
        "colab": {
          "base_uri": "https://localhost:8080/"
        },
        "id": "yktlUGZFUsS3",
        "outputId": "5def1117-ee16-4bf3-ff44-a9b296060911"
      },
      "outputs": [
        {
          "name": "stdout",
          "output_type": "stream",
          "text": [
            "Total digits are:  5\n"
          ]
        }
      ],
      "source": [
        "num= 75869\n",
        "count = 0\n",
        "while num != 0:\n",
        "  num = num // 10\n",
        "  count = count + 1\n",
        "print(\"Total digits are: \",count)"
      ]
    },
    {
      "cell_type": "code",
      "execution_count": null,
      "metadata": {
        "colab": {
          "base_uri": "https://localhost:8080/"
        },
        "id": "TaeZK5D7Vwq3",
        "outputId": "16a3d534-e185-4aa0-8cef-7eb8b9a4572d"
      },
      "outputs": [
        {
          "name": "stdout",
          "output_type": "stream",
          "text": [
            "* * * * * \n",
            "* * * * \n",
            "* * * \n",
            "* * \n",
            "* \n",
            "\n"
          ]
        }
      ],
      "source": [
        "num=5\n",
        "for i in range(0,num+1):\n",
        "  for j in range(num-i,0,-1):\n",
        "    print(\"*\",end=\" \")\n",
        "  print(\"\")"
      ]
    },
    {
      "cell_type": "code",
      "execution_count": null,
      "metadata": {
        "colab": {
          "base_uri": "https://localhost:8080/"
        },
        "id": "W8orGtLpalvm",
        "outputId": "87617c07-f060-421d-d703-3d50c12f80db"
      },
      "outputs": [
        {
          "name": "stdout",
          "output_type": "stream",
          "text": [
            "40\n",
            "30\n",
            "20\n",
            "10\n"
          ]
        }
      ],
      "source": [
        "list1 = [10,20,30,40 ]\n",
        "new_list= reversed(list1)\n",
        "for item in new_list:\n",
        "  print(item)"
      ]
    },
    {
      "cell_type": "code",
      "execution_count": null,
      "metadata": {
        "colab": {
          "base_uri": "https://localhost:8080/"
        },
        "id": "eVIU9UY7GP8k",
        "outputId": "13abdd0f-a900-4fcb-f2fe-a23d82f054b9"
      },
      "outputs": [
        {
          "name": "stdout",
          "output_type": "stream",
          "text": [
            "-10\n",
            "-9\n",
            "-8\n",
            "-7\n",
            "-6\n",
            "-5\n",
            "-4\n",
            "-3\n",
            "-2\n"
          ]
        }
      ],
      "source": [
        "for i in range(-10,-1,1):\n",
        "  print(i)"
      ]
    },
    {
      "cell_type": "code",
      "execution_count": null,
      "metadata": {
        "id": "qxfRq4kqHUTM"
      },
      "outputs": [],
      "source": [
        "for i in range(25,50):\n",
        "  if(i%2==0):\n",
        "    continue\n",
        "  else:\n",
        "    print(i)\n"
      ]
    },
    {
      "cell_type": "code",
      "execution_count": null,
      "metadata": {
        "id": "8ULF_ahOrfpV"
      },
      "outputs": [],
      "source": [
        "for i in range(5):\n",
        "  print(i)\n",
        "print(\"Done!\")"
      ]
    },
    {
      "cell_type": "code",
      "execution_count": null,
      "metadata": {
        "id": "R8UXbeyasT9B"
      },
      "outputs": [],
      "source": [
        "num1,num2 = 0,1\n",
        "print(\"Printing fibonacci number: \")\n",
        "for i in range(10):\n",
        "  print(num1,end=\" \")\n",
        "\n",
        "  res=num1+num2\n",
        "  num1=num2\n",
        "  num2=res"
      ]
    },
    {
      "cell_type": "code",
      "execution_count": null,
      "metadata": {
        "colab": {
          "base_uri": "https://localhost:8080/"
        },
        "id": "0rjHPzqGxIbt",
        "outputId": "25876f8a-c32b-4183-f7a4-d03a5ddce329"
      },
      "outputs": [
        {
          "name": "stdout",
          "output_type": "stream",
          "text": [
            " finding factorial of a number: \n",
            "Enter a number: 5\n",
            "The factorial of 5 is 120\n"
          ]
        }
      ],
      "source": [
        "factorial=1\n",
        "print(\" finding factorial of a number: \")\n",
        "num=input(\"Enter a number: \")\n",
        "num1=int(num)\n",
        "if(num1<0):\n",
        "  print(\"factorial doesn't exsist \")\n",
        "elif(num1==0):\n",
        "  print(\"The factorial of this 0 is: 1\")\n",
        "else:\n",
        "  for i in range(1,num1+1):\n",
        "    factorial=factorial*i\n",
        "print(\"The factorial of\",num1,\"is\", factorial)"
      ]
    },
    {
      "cell_type": "code",
      "execution_count": null,
      "metadata": {
        "colab": {
          "base_uri": "https://localhost:8080/"
        },
        "id": "7XVEkV1fxbV8",
        "outputId": "b938fffa-17a9-41ba-e939-362e855310b0"
      },
      "outputs": [
        {
          "name": "stdout",
          "output_type": "stream",
          "text": [
            "printing reverse number...\n",
            "Enter a number: 123\n",
            "321\n"
          ]
        }
      ],
      "source": [
        "print(\"printing reverse number...\")\n",
        "sum= 0\n",
        "num=input(\"Enter a number: \")\n",
        "\n",
        "num1=int(num)\n",
        "while num1 > 0:\n",
        "  rem = num1 % 10\n",
        "  sum = (sum * 10) + rem\n",
        "  num1 = num1 // 10\n",
        "print(sum)\n"
      ]
    },
    {
      "cell_type": "code",
      "execution_count": null,
      "metadata": {
        "colab": {
          "base_uri": "https://localhost:8080/"
        },
        "id": "AhI__dMN4PdT",
        "outputId": "f7be8231-b30b-48f7-891d-d02c10984c95"
      },
      "outputs": [
        {
          "name": "stdout",
          "output_type": "stream",
          "text": [
            "2 +22 +222 +2222 +22222 +The sum of series :  24690\n"
          ]
        }
      ],
      "source": [
        "print(\"finding sum of series: \")\n",
        "num = 5\n",
        "start = 2\n",
        "seq_sum = 0\n",
        "\n",
        "for i in range(0,num):\n",
        "  print(start,end=\" +\")\n",
        "  seq_sum += start\n",
        "  start = (start*10) + 2\n",
        "print(\"The sum of series : \",seq_sum)"
      ]
    },
    {
      "cell_type": "code",
      "execution_count": null,
      "metadata": {
        "colab": {
          "base_uri": "https://localhost:8080/"
        },
        "id": "muoUOWD72Lgw",
        "outputId": "251eb34f-444e-4995-cd59-73c745a74e84"
      },
      "outputs": [
        {
          "name": "stdout",
          "output_type": "stream",
          "text": [
            "20 40 60 80 100 "
          ]
        }
      ],
      "source": [
        "my_list = [10,20,30,40,50,60,70,80,90,100]\n",
        "for i in my_list[1::2]:\n",
        "  print(i,end=\" \")"
      ]
    },
    {
      "cell_type": "code",
      "execution_count": null,
      "metadata": {
        "colab": {
          "base_uri": "https://localhost:8080/"
        },
        "id": "a7VRTF-h3WXK",
        "outputId": "8f28df90-7720-4986-f16d-bdf3d28320b6"
      },
      "outputs": [
        {
          "name": "stdout",
          "output_type": "stream",
          "text": [
            "enter the limit number: 3\n",
            "the current number= 1 the qube is =  1\n",
            "the current number= 2 the qube is =  8\n",
            "the current number= 3 the qube is =  27\n"
          ]
        }
      ],
      "source": [
        "num=input(\"enter the limit number: \")\n",
        "num1 = int(num)\n",
        "for i in range(1,num1+1):\n",
        "  print(\"the current number=\",i,\"the qube is = \",i*i*i)"
      ]
    },
    {
      "cell_type": "code",
      "execution_count": null,
      "metadata": {
        "colab": {
          "base_uri": "https://localhost:8080/"
        },
        "id": "8ON5tzcU8HQA",
        "outputId": "f1b5fc51-deea-400b-fc16-0c9b508a31d3"
      },
      "outputs": [
        {
          "name": "stdout",
          "output_type": "stream",
          "text": [
            "Functions\n",
            "Total expenses of mj and viks:  2410 , 6620\n"
          ]
        }
      ],
      "source": [
        "print(\"Functions\")\n",
        "\n",
        "def calculate_total(a):\n",
        "  total = 0\n",
        "  for i in a:\n",
        "     total = total + i\n",
        "  return total\n",
        "\n",
        "mj_exp_list = [1200,200,460,550]\n",
        "viks_exp_list = [2000,4500,100,20]\n",
        "\n",
        "mj_total_exp = calculate_total(mj_exp_list)\n",
        "viks_total_exp = calculate_total(viks_exp_list)\n",
        "print(\"Total expenses of mj and viks: \",mj_total_exp,\",\", viks_total_exp)"
      ]
    },
    {
      "cell_type": "code",
      "execution_count": null,
      "metadata": {
        "colab": {
          "base_uri": "https://localhost:8080/"
        },
        "id": "bUHCOQNmE_SI",
        "outputId": "2e75f4db-ef85-4f66-a7c8-b846e412aca2"
      },
      "outputs": [
        {
          "name": "stdout",
          "output_type": "stream",
          "text": [
            " The sum is:  35\n"
          ]
        }
      ],
      "source": [
        "def sum(num1,num2):\n",
        "  total = 0\n",
        "  total = num1 + num2\n",
        "  return total\n",
        "\n",
        "sumation = sum(11,24)\n",
        "print(\" The sum is: \",sumation)"
      ]
    },
    {
      "cell_type": "code",
      "execution_count": null,
      "metadata": {
        "colab": {
          "base_uri": "https://localhost:8080/"
        },
        "id": "2GDSkxXfH4Gi",
        "outputId": "18ee35ef-478d-4da8-a54c-a6f003e7c9fc"
      },
      "outputs": [
        {
          "name": "stdout",
          "output_type": "stream",
          "text": [
            "area of a triangle :  65.0\n",
            "area of a rectangle :  130\n"
          ]
        }
      ],
      "source": [
        "def calculate_area(base,height,shape =\"bal\"):\n",
        "  if( shape == \"triagle\"):\n",
        "    area = 0\n",
        "    area = (1/2)*base*height\n",
        "\n",
        "  elif( shape == \"rectangle\"):\n",
        "    area = base*height\n",
        "  else:\n",
        "    print(\"Error>>>\")\n",
        "  return area\n",
        "\n",
        "area_triangle = calculate_area(10,13,\"triagle\")\n",
        "print(\"area of a triangle : \", area_triangle)\n",
        "area_rectangle = calculate_area(10,13,\"rectangle\")\n",
        "print(\"area of a rectangle : \", area_rectangle)"
      ]
    },
    {
      "cell_type": "code",
      "execution_count": null,
      "metadata": {
        "colab": {
          "base_uri": "https://localhost:8080/"
        },
        "id": "Azrh4yQFIxjI",
        "outputId": "1a99ac89-bf9e-44cf-925e-13b5ae5c583b"
      },
      "outputs": [
        {
          "name": "stdout",
          "output_type": "stream",
          "text": [
            "Area of triangle is: 25.0\n",
            "Area of rectangle is: 600\n"
          ]
        }
      ],
      "source": [
        "def calculate_area(dimension1,dimension2,shape=\"triangle\"):\n",
        "    '''\n",
        "    :param dimension1: In case of triangle it is \"base\". For rectangle it is \"length\".\n",
        "    :param dimension2: In case of triangle it is \"height\". For rectangle it is \"width\".\n",
        "    :param shape: Either \"triangle\" or \"rectangle\"\n",
        "    :return: Area of a shape\n",
        "    '''\n",
        "    if shape==\"triangle\":\n",
        "        area=1/2*(dimension1*dimension2) # Triangle area is : 1/2(Base*Height)\n",
        "    elif shape==\"rectangle\":\n",
        "        area=dimension1*dimension2 # Rectangle area is: Length*Width\n",
        "    else:\n",
        "        print(\"Error: Input shape is neither triangle nor rectangle.\")\n",
        "        area=None # If user didn't supply \"triangle\" or \"rectangle\" as shape then return None\n",
        "    return area\n",
        "\n",
        "base=10\n",
        "height=5\n",
        "triangle_area=calculate_area(base,height,\"triangle\")\n",
        "print(\"Area of triangle is:\",triangle_area)\n",
        "\n",
        "# Calculate area of a rectangle whose length is 20 and width is 30\n",
        "length=20\n",
        "width=30\n",
        "rectangle_area=calculate_area(length,width,\"rectangle\")\n",
        "print(\"Area of rectangle is:\",rectangle_area)"
      ]
    },
    {
      "cell_type": "code",
      "execution_count": null,
      "metadata": {
        "colab": {
          "base_uri": "https://localhost:8080/"
        },
        "id": "R9JcIBj-Mnn9",
        "outputId": "f845daa0-95c0-44a8-ba24-2aca803fbcf7"
      },
      "outputs": [
        {
          "name": "stdout",
          "output_type": "stream",
          "text": [
            "* \r\n",
            "* * \r\n",
            "* * * \r\n",
            "* * * * \r\n",
            "<function star at 0x7f94ee5c5af0>\n"
          ]
        }
      ],
      "source": [
        "def star(n):\n",
        "  for i in range(1,n+1):\n",
        "    for j in range(1,i+1):\n",
        "      print(\"*\",end=\" \")\n",
        "    print(\"\\r\")\n",
        "\n",
        "star(4)\n",
        "print(star)\n",
        "\n"
      ]
    },
    {
      "cell_type": "code",
      "execution_count": null,
      "metadata": {
        "colab": {
          "base_uri": "https://localhost:8080/"
        },
        "id": "-atIi1B1uleI",
        "outputId": "638c054c-4a0c-4bae-b6f7-98463c631606"
      },
      "outputs": [
        {
          "name": "stdout",
          "output_type": "stream",
          "text": [
            "The name is:  mahabub\n",
            "The age : 23\n",
            "None\n"
          ]
        }
      ],
      "source": [
        "def print_n(name,age):\n",
        "  print(\"The name is: \",name)\n",
        "  print(\"The age :\",age)\n",
        "\n",
        "printing = print_n(\"mahabub\", 23)\n",
        "print(printing)"
      ]
    },
    {
      "cell_type": "code",
      "execution_count": null,
      "metadata": {
        "colab": {
          "background_save": true
        },
        "id": "7dh06c1XwSbs",
        "outputId": "6de7c65d-c2f9-4e2f-a134-a94f33988e63"
      },
      "outputs": [
        {
          "name": "stdout",
          "output_type": "stream",
          "text": [
            "20\n",
            "40\n",
            "50\n",
            "\r\n",
            "20\n"
          ]
        }
      ],
      "source": [
        "def fun1(*arg):\n",
        "  for i in a"
      ]
    },
    {
      "cell_type": "code",
      "source": [
        "def re_fun(start,limit):\n",
        "  sum = 0\n",
        "  for i in range(start,limit):\n",
        "    sum = sum + i\n",
        "  print(sum)\n",
        "\n",
        "re_fun(1,11)"
      ],
      "metadata": {
        "colab": {
          "base_uri": "https://localhost:8080/"
        },
        "id": "5TntIfbCDQvQ",
        "outputId": "e9a1186c-36a2-4610-f9ca-5bb0c483d26b"
      },
      "execution_count": null,
      "outputs": [
        {
          "output_type": "stream",
          "name": "stdout",
          "text": [
            "55\n"
          ]
        }
      ]
    },
    {
      "cell_type": "markdown",
      "source": [
        "**call function with different name: **"
      ],
      "metadata": {
        "id": "T1Ijna7WEzen"
      }
    },
    {
      "cell_type": "code",
      "source": [
        "def display_fun(name,age):\n",
        "  print(\"Name: \",name,\"Age :\",age)\n",
        "\n",
        "display_fun(\"Mahabub\", 23)\n",
        "\n",
        "show_fun = display_fun\n",
        "\n",
        "show_fun(\"Showvik\", 21)"
      ],
      "metadata": {
        "colab": {
          "base_uri": "https://localhost:8080/"
        },
        "id": "pk-hrXVwE-S8",
        "outputId": "8fa13925-c5e2-403d-a66a-040b84a5e631"
      },
      "execution_count": null,
      "outputs": [
        {
          "output_type": "stream",
          "name": "stdout",
          "text": [
            "Name:  Mahabub Age : 23\n",
            "Name:  Showvik Age : 21\n"
          ]
        }
      ]
    },
    {
      "cell_type": "markdown",
      "source": [
        "***list***"
      ],
      "metadata": {
        "id": "dd-8_0AjHxla"
      }
    },
    {
      "cell_type": "code",
      "source": [
        "print(list(range(4,30,2)))"
      ],
      "metadata": {
        "colab": {
          "base_uri": "https://localhost:8080/"
        },
        "id": "SoAyN6euFxBL",
        "outputId": "db1eabbb-6942-438d-e259-8c352c8112c3"
      },
      "execution_count": null,
      "outputs": [
        {
          "output_type": "stream",
          "name": "stdout",
          "text": [
            "[4, 6, 8, 10, 12, 14, 16, 18, 20, 22, 24, 26, 28]\n"
          ]
        }
      ]
    },
    {
      "cell_type": "code",
      "source": [
        "x = [4, 6, 8, 24, 12, 2]\n",
        "print(max(x))"
      ],
      "metadata": {
        "colab": {
          "base_uri": "https://localhost:8080/"
        },
        "id": "mtdYdE8LH7BW",
        "outputId": "ed1c259f-a112-4c80-a69c-991ecc1ef7c1"
      },
      "execution_count": null,
      "outputs": [
        {
          "output_type": "stream",
          "name": "stdout",
          "text": [
            "24\n"
          ]
        }
      ]
    },
    {
      "cell_type": "code",
      "source": [
        "def list_largest (list_num):\n",
        "\n",
        "    max_num = max(list_num)\n",
        "\n",
        "    return max_num\n",
        "\n",
        "\n",
        "list_num = [5,14,25,2,-1,89]\n",
        "\n",
        "highest_num=list_largest(list_num)\n",
        "\n",
        "print(f\"highest number from the list {list_num} is = {highest_num}\")\n",
        "\n",
        "print(\"*\"*50)"
      ],
      "metadata": {
        "colab": {
          "base_uri": "https://localhost:8080/"
        },
        "id": "2P5q6Kr7KOQK",
        "outputId": "400fbbd9-933d-4097-d6fa-030530090d75"
      },
      "execution_count": null,
      "outputs": [
        {
          "output_type": "stream",
          "name": "stdout",
          "text": [
            "highest number from the list [5, 14, 25, 2, -1, 89] is = 89\n",
            "**************************************************\n"
          ]
        }
      ]
    },
    {
      "cell_type": "code",
      "source": [
        "#multiple line print or comment..\n",
        "''' i am mahabub jamil showvik\n",
        "wants to be a python developer''' #multiline comment\n",
        "\n",
        "print('''hy i am so closed to be a python developer>>\n",
        "i wants to develop so many things''')"
      ],
      "metadata": {
        "colab": {
          "base_uri": "https://localhost:8080/"
        },
        "id": "aAPumSDiNGh7",
        "outputId": "9e4bb25b-5489-4811-b6d0-0b80eab6e187"
      },
      "execution_count": null,
      "outputs": [
        {
          "output_type": "stream",
          "name": "stdout",
          "text": [
            "hy i am so closed to be a python developer>>\n",
            "i wants to develop so many things\n"
          ]
        }
      ]
    },
    {
      "cell_type": "code",
      "source": [
        "#finding types of variable...\n",
        "a = 5\n",
        "b = \"mj_vicks\"\n",
        "c = 3.86\n",
        "\n",
        "print(type(a),\"\\n\",type(b),\"\\n\",type(c))"
      ],
      "metadata": {
        "colab": {
          "base_uri": "https://localhost:8080/"
        },
        "id": "qywwGqCwNDn1",
        "outputId": "440b1b44-179a-4eeb-c54c-d791aea0b52c"
      },
      "execution_count": null,
      "outputs": [
        {
          "output_type": "stream",
          "name": "stdout",
          "text": [
            "<class 'int'> \n",
            " <class 'str'> \n",
            " <class 'float'>\n"
          ]
        }
      ]
    },
    {
      "cell_type": "code",
      "source": [
        "# comperision operator\n",
        "\n",
        "'''lets assume a variable that will compare 2 integars and show output\n",
        "in boolian'''\n",
        "\n",
        "num = (10>3)\n",
        "print(num)"
      ],
      "metadata": {
        "colab": {
          "base_uri": "https://localhost:8080/"
        },
        "id": "1Eiqn-w0O3i6",
        "outputId": "ccbc9d34-5cd0-4d24-b6cc-245cdb65a3f4"
      },
      "execution_count": null,
      "outputs": [
        {
          "output_type": "stream",
          "name": "stdout",
          "text": [
            "True\n"
          ]
        }
      ]
    },
    {
      "cell_type": "code",
      "source": [
        "#testing logical operators...and, or, not\n",
        "\n",
        "bool1 = True\n",
        "bool2 = False\n",
        "print(bool1 and bool2)\n",
        "print(bool1 or bool2)\n",
        "print(not bool2)\n"
      ],
      "metadata": {
        "colab": {
          "base_uri": "https://localhost:8080/"
        },
        "id": "1OBD33B3P0__",
        "outputId": "782b35d6-86c8-4fb0-b087-0310361935a1"
      },
      "execution_count": null,
      "outputs": [
        {
          "output_type": "stream",
          "name": "stdout",
          "text": [
            "False\n",
            "True\n",
            "True\n"
          ]
        }
      ]
    },
    {
      "cell_type": "code",
      "source": [
        "#type casting:\n",
        "\n",
        "a = \"6830\"\n",
        "print(type(a))\n",
        "a = int(a)\n",
        "print(type(a))\n",
        "b = a + 80\n",
        "print(b)"
      ],
      "metadata": {
        "colab": {
          "base_uri": "https://localhost:8080/"
        },
        "id": "yhKJugtyQhoT",
        "outputId": "8562c9dd-0fac-49fa-f852-087b4711886f"
      },
      "execution_count": null,
      "outputs": [
        {
          "output_type": "stream",
          "name": "stdout",
          "text": [
            "<class 'str'>\n",
            "<class 'int'>\n",
            "6910\n"
          ]
        }
      ]
    },
    {
      "cell_type": "code",
      "source": [
        "# user input:\n",
        "def user_input(a):\n",
        "  a=input(\"enter any thing: \")\n",
        "  print(a)\n",
        "\n",
        "user_input(\"g\")\n"
      ],
      "metadata": {
        "colab": {
          "base_uri": "https://localhost:8080/"
        },
        "id": "zJRAEccMQ1hr",
        "outputId": "e1573bae-4476-4d66-b29e-b324cae91f96"
      },
      "execution_count": null,
      "outputs": [
        {
          "output_type": "stream",
          "name": "stdout",
          "text": [
            "enter any thing: mahabub\n",
            "mahabub\n"
          ]
        }
      ]
    },
    {
      "cell_type": "code",
      "source": [
        "#string operations :\n",
        "first_name = \"Mahabub \"\n",
        "last_name = \"Jamil\"\n",
        "full_name = first_name + last_name\n",
        "print(full_name) #string addition\n",
        "print(full_name[0:3])\n",
        "print(full_name[2:-1])\n",
        "\n",
        "print(len(full_name)) #finding length of a string\n",
        "print(last_name.endswith(\"l\")) #testing string ends\n",
        "print(full_name.count(\"a\")) #counting words from the string\n"
      ],
      "metadata": {
        "colab": {
          "base_uri": "https://localhost:8080/"
        },
        "id": "0pywztOYRk-4",
        "outputId": "b97c4997-73ae-477d-c5e8-ccbdc1095333"
      },
      "execution_count": null,
      "outputs": [
        {
          "output_type": "stream",
          "name": "stdout",
          "text": [
            "Mahabub Jamil\n",
            "Mah\n",
            "habub Jami\n",
            "13\n",
            "True\n",
            "3\n"
          ]
        }
      ]
    },
    {
      "cell_type": "code",
      "source": [
        "#replacing strings:\n",
        "massege = '''<Name>\n",
        "congrats! you are selected\n",
        "                        <Date>'''\n",
        "name = input(\"Enter name :\")\n",
        "date = input(\"Enter date : \")\n",
        "massege = massege.replace(\"<Name>\",name)\n",
        "massege = massege.replace(\"<Date>\",date)\n",
        "print(massege)"
      ],
      "metadata": {
        "colab": {
          "base_uri": "https://localhost:8080/"
        },
        "id": "8GHKKQfOTq0n",
        "outputId": "65088dce-e91a-4fd9-ab4e-f3e84a7973fd"
      },
      "execution_count": null,
      "outputs": [
        {
          "output_type": "stream",
          "name": "stdout",
          "text": [
            "Enter name :mj\n",
            "Enter date : 17 july\n",
            "mj\n",
            "congrats! you are selected\n",
            "            17 july\n"
          ]
        }
      ]
    },
    {
      "cell_type": "code",
      "source": [
        "# find function in string\n",
        "st = \"life is an experiance  just enjoy it\"\n",
        "double_space = st.find(\"  \")\n",
        "print(double_space) #result will show as index\n",
        "st = st.replace(\"  \",\",\")\n",
        "print(st)"
      ],
      "metadata": {
        "colab": {
          "base_uri": "https://localhost:8080/"
        },
        "id": "KXV0ZbafYib5",
        "outputId": "c0dcd1f9-9fd3-44f3-d0ba-49271acbc21c"
      },
      "execution_count": null,
      "outputs": [
        {
          "output_type": "stream",
          "name": "stdout",
          "text": [
            "21\n",
            "life is an experiance,just enjoy it\n"
          ]
        }
      ]
    },
    {
      "cell_type": "code",
      "source": [
        "#list operation:\n",
        "\n",
        "list1 = [2,5,8,0]\n",
        "print(list1[1])\n",
        "list1[3] = 9 #list value change\n",
        "print(list1)\n",
        "list2 = [\"mj\", True, 3.2]\n",
        "list3 = list1 + list2 #list addition\n",
        "print(list3)\n",
        "list3[1:4] #list slicing\n",
        "\n"
      ],
      "metadata": {
        "colab": {
          "base_uri": "https://localhost:8080/"
        },
        "id": "G_oYA04Vel9Y",
        "outputId": "f6e68829-6363-4278-8924-f48e277b8cf7"
      },
      "execution_count": null,
      "outputs": [
        {
          "output_type": "stream",
          "name": "stdout",
          "text": [
            "5\n",
            "[2, 5, 8, 9]\n",
            "[2, 5, 8, 9, 'mj', True, 3.2]\n"
          ]
        },
        {
          "output_type": "execute_result",
          "data": {
            "text/plain": [
              "[5, 8, 9]"
            ]
          },
          "metadata": {},
          "execution_count": 6
        }
      ]
    },
    {
      "cell_type": "code",
      "source": [
        "list1.append(10)\n",
        "list1"
      ],
      "metadata": {
        "colab": {
          "base_uri": "https://localhost:8080/"
        },
        "id": "eOW_VuQhfyHW",
        "outputId": "70d1018b-4f71-41d2-bc1b-2a00b48d2806"
      },
      "execution_count": null,
      "outputs": [
        {
          "output_type": "execute_result",
          "data": {
            "text/plain": [
              "[2, 5, 8, 9, 10, 10, 10]"
            ]
          },
          "metadata": {},
          "execution_count": 45
        }
      ]
    },
    {
      "cell_type": "code",
      "source": [
        "list1.insert(5,7)\n",
        "list1"
      ],
      "metadata": {
        "colab": {
          "base_uri": "https://localhost:8080/"
        },
        "id": "OpZIckGigAlY",
        "outputId": "ac776d85-d1bf-42b7-c714-bbb19d09b434"
      },
      "execution_count": null,
      "outputs": [
        {
          "output_type": "execute_result",
          "data": {
            "text/plain": [
              "[2, 5, 8, 9, 7]"
            ]
          },
          "metadata": {},
          "execution_count": 7
        }
      ]
    },
    {
      "cell_type": "code",
      "source": [
        "list1.sort()\n",
        "print(list1)"
      ],
      "metadata": {
        "id": "vjZbLXgZgjqE",
        "colab": {
          "base_uri": "https://localhost:8080/"
        },
        "outputId": "5950b5a3-6125-4452-a19e-e2fa33651955"
      },
      "execution_count": null,
      "outputs": [
        {
          "output_type": "stream",
          "name": "stdout",
          "text": [
            "[2, 5, 7, 8, 9]\n"
          ]
        }
      ]
    },
    {
      "cell_type": "code",
      "source": [
        "list1.reverse()\n",
        "print(list1)"
      ],
      "metadata": {
        "colab": {
          "base_uri": "https://localhost:8080/"
        },
        "id": "s3zpjH2zgPin",
        "outputId": "6110230d-8d9a-4a1a-b691-2be44f3c98ef"
      },
      "execution_count": null,
      "outputs": [
        {
          "output_type": "stream",
          "name": "stdout",
          "text": [
            "[2, 5, 7, 8, 9]\n"
          ]
        }
      ]
    },
    {
      "cell_type": "markdown",
      "source": [
        "Tuples are immutable = it can't be changed."
      ],
      "metadata": {
        "id": "HggddO9lg8Eq"
      }
    },
    {
      "cell_type": "code",
      "source": [
        "t1 = () #empty tuples\n",
        "t2 = (1,) # 1 element tuples\n",
        "t3 = (2,4,7,0,6,0,7) # many element tuples\n",
        "\n",
        "'''we can not add or delete from a tuples so there are some sort of functions are\n",
        "available like count and index = value searching...'''\n",
        "\n",
        "print(t3.count(0))\n",
        "print(t3.index(2)) #searching index using value.."
      ],
      "metadata": {
        "colab": {
          "base_uri": "https://localhost:8080/"
        },
        "id": "WH7d07-yg4XW",
        "outputId": "a605c836-ac4a-419f-be23-799806281cfa"
      },
      "execution_count": null,
      "outputs": [
        {
          "output_type": "stream",
          "name": "stdout",
          "text": [
            "2\n",
            "0\n"
          ]
        }
      ]
    },
    {
      "cell_type": "code",
      "source": [
        "#dictonary :\n",
        "new_dic = {\n",
        "    \" name\": \"mahabub jamil showvik\",\n",
        "    \"hobbies\":{\"playing\":\"cricket\",\"arts\":\"drawing\",\"food\":\"Briyani\"},\n",
        "    \"dreams\" : \"wants to be a python developer\",\n",
        "    \"cgpa\": [3.98,3.57,3.94,3.86,3.72,4]\n",
        "\n",
        "}\n",
        "old_dic = {\n",
        "    \"schools\":\"proteeti school kushtia\",\n",
        "    \"college\": \"kushtia govt college\"\n",
        "}\n",
        "print(new_dic[\"hobbies\"][\"playing\"])\n",
        "print(new_dic[\"dreams\"])\n",
        "print(new_dic[\"cgpa\"])\n",
        "new_dic.update(old_dic)\n",
        "print(new_dic)"
      ],
      "metadata": {
        "colab": {
          "base_uri": "https://localhost:8080/"
        },
        "id": "H_kQlJ-KilXl",
        "outputId": "39c014d0-396d-474d-9de8-c87ed75a872f"
      },
      "execution_count": null,
      "outputs": [
        {
          "output_type": "stream",
          "name": "stdout",
          "text": [
            "cricket\n",
            "wants to be a python developer\n",
            "[3.98, 3.57, 3.94, 3.86, 3.72, 4]\n",
            "{' name': 'mahabub jamil showvik', 'hobbies': {'playing': 'cricket', 'arts': 'drawing', 'food': 'Briyani'}, 'dreams': 'wants to be a python developer', 'cgpa': [3.98, 3.57, 3.94, 3.86, 3.72, 4], 'schools': 'proteeti school kushtia', 'college': 'kushtia govt college'}\n"
          ]
        }
      ]
    },
    {
      "cell_type": "markdown",
      "source": [],
      "metadata": {
        "id": "1XH3Su9YsP14"
      }
    },
    {
      "cell_type": "code",
      "source": [
        "print(list(new_dic.keys()))"
      ],
      "metadata": {
        "id": "Bgz111jXkb_d",
        "colab": {
          "base_uri": "https://localhost:8080/"
        },
        "outputId": "49c36665-0511-44b3-abac-9139744f5ba2"
      },
      "execution_count": null,
      "outputs": [
        {
          "output_type": "stream",
          "name": "stdout",
          "text": [
            "[' name', 'hobbies', 'dreams', 'cgpa', 'schools', 'college']\n"
          ]
        }
      ]
    },
    {
      "cell_type": "code",
      "source": [
        "print(list(new_dic.values()))"
      ],
      "metadata": {
        "colab": {
          "base_uri": "https://localhost:8080/"
        },
        "id": "rDW7JAnfs02_",
        "outputId": "17896696-3cf3-4168-8905-9623d16501f9"
      },
      "execution_count": null,
      "outputs": [
        {
          "output_type": "stream",
          "name": "stdout",
          "text": [
            "['mahabub jamil showvik', {'playing': 'cricket', 'arts': 'drawing', 'food': 'Briyani'}, 'wants to be a python developer', [3.98, 3.57, 3.94, 3.86, 3.72, 4], 'proteeti school kushtia', 'kushtia govt college']\n"
          ]
        }
      ]
    },
    {
      "cell_type": "markdown",
      "source": [
        "***set operation***"
      ],
      "metadata": {
        "id": "OUkYLfKHtQ5Y"
      }
    },
    {
      "cell_type": "code",
      "source": [
        "a = {2,5,7,4,3,2}\n",
        "print(type(a))"
      ],
      "metadata": {
        "colab": {
          "base_uri": "https://localhost:8080/"
        },
        "id": "B90hUWCOtJV2",
        "outputId": "00388349-92d4-46ae-c066-05061eb0db01"
      },
      "execution_count": null,
      "outputs": [
        {
          "output_type": "stream",
          "name": "stdout",
          "text": [
            "<class 'set'>\n"
          ]
        }
      ]
    },
    {
      "cell_type": "code",
      "source": [
        "print(a) #set has no repeated number..."
      ],
      "metadata": {
        "colab": {
          "base_uri": "https://localhost:8080/"
        },
        "id": "oAl0drDbtgff",
        "outputId": "b81c9943-cc0b-43f5-c6ef-1b058978cdb0"
      },
      "execution_count": null,
      "outputs": [
        {
          "output_type": "stream",
          "name": "stdout",
          "text": [
            "{2, 3, 4, 5, 7}\n"
          ]
        }
      ]
    },
    {
      "cell_type": "code",
      "source": [
        "#adding elements..\n",
        "a.add(8)\n",
        "a.add(0)\n",
        "print(a)\n",
        "b = (1,2,3,5)\n",
        "a.add(b)\n",
        "print(a)\n",
        "a.remove(b)\n",
        "print(a)"
      ],
      "metadata": {
        "colab": {
          "base_uri": "https://localhost:8080/"
        },
        "id": "LfrIKTJPtz8N",
        "outputId": "5b36ba87-58dd-4979-ca42-389eda22ac33"
      },
      "execution_count": null,
      "outputs": [
        {
          "output_type": "stream",
          "name": "stdout",
          "text": [
            "{0, 2, 3, 4, 5, 7, 8, (1, 2, 3, 5)}\n",
            "{0, 2, 3, 4, 5, 7, 8, (1, 2, 3, 5)}\n",
            "{0, 2, 3, 4, 5, 7, 8}\n"
          ]
        }
      ]
    },
    {
      "cell_type": "code",
      "source": [
        "my_dic = {\n",
        "    \"alo\" : \"potato\",\n",
        "    \"juta\": \"shoes\",\n",
        "    \" pakha\": \"Fans\",\n",
        "    \"dim\" : \"Egg\"\n",
        "}\n",
        "print(\"available translation \",my_dic.keys())\n",
        "word = input(\"Enter the key word :\")\n",
        "print(\"The translation of the word : \",my_dic.get(word))"
      ],
      "metadata": {
        "colab": {
          "base_uri": "https://localhost:8080/"
        },
        "id": "sh8tbTPBuzur",
        "outputId": "c9bd964a-7a81-4091-90a9-921a921273ce"
      },
      "execution_count": null,
      "outputs": [
        {
          "output_type": "stream",
          "name": "stdout",
          "text": [
            "available translation  dict_keys(['alo', 'juta', ' pakha', 'dim'])\n",
            "Enter the key word :dim\n",
            "The translation of the word :  Egg\n"
          ]
        }
      ]
    },
    {
      "cell_type": "code",
      "source": [
        "# ushing f string...\n",
        "num = 5\n",
        "for i in range(1,11):\n",
        "  print(f'{num} x {i} = {num * i}')"
      ],
      "metadata": {
        "colab": {
          "base_uri": "https://localhost:8080/"
        },
        "id": "C5YEuUow6xxE",
        "outputId": "ac0255ab-017a-4b95-d00a-635e38bc2289"
      },
      "execution_count": null,
      "outputs": [
        {
          "output_type": "stream",
          "name": "stdout",
          "text": [
            "5 x 1 = 5\n",
            "5 x 2 = 10\n",
            "5 x 3 = 15\n",
            "5 x 4 = 20\n",
            "5 x 5 = 25\n",
            "5 x 6 = 30\n",
            "5 x 7 = 35\n",
            "5 x 8 = 40\n",
            "5 x 9 = 45\n",
            "5 x 10 = 50\n"
          ]
        }
      ]
    },
    {
      "cell_type": "code",
      "source": [
        "#conditional statement...\n",
        "# finding length of string\n",
        "\n",
        "text =  input(\"Enter a string: \")\n",
        "length = len(text)\n",
        "\n",
        "if(length > 10):\n",
        "  print(\"YEs the length is greater\")\n",
        "else :\n",
        "  print(\"NOOO...this shit not that big thogh..\")"
      ],
      "metadata": {
        "colab": {
          "base_uri": "https://localhost:8080/"
        },
        "id": "NxCBomHF7hYe",
        "outputId": "5b281815-a835-4c1e-dbd1-7b02138cd7e5"
      },
      "execution_count": null,
      "outputs": [
        {
          "output_type": "stream",
          "name": "stdout",
          "text": [
            "Enter a string: fuck\n",
            "NOOO...this shit not that big tho..\n"
          ]
        }
      ]
    },
    {
      "cell_type": "code",
      "source": [
        "#finding something from the list...\n",
        "food = [\"rice\", \"egg_fry\", \"samosa\",\"Biriyani\", \"salad\"]\n",
        "print( \"Ror finding dish plz enter a dish name...:\")\n",
        "dish = input(\"Name: \")\n",
        "if(dish in food):\n",
        "  print(\"Dish is available\")\n",
        "else:\n",
        "  print(\"OPPs out of stock\")"
      ],
      "metadata": {
        "colab": {
          "base_uri": "https://localhost:8080/"
        },
        "id": "SZ7CYOMo8yHB",
        "outputId": "c91372bc-f77f-4912-9bfe-0d4eb0eff2ab"
      },
      "execution_count": null,
      "outputs": [
        {
          "output_type": "stream",
          "name": "stdout",
          "text": [
            "Ror finding dish plz enter a dish name...:\n",
            "Name: rice\n",
            "Dish is available\n"
          ]
        }
      ]
    },
    {
      "cell_type": "code",
      "source": [
        "for i in range(1,10):\n",
        "  if(i%2==0):\n",
        "    continue\n",
        "  print(i)"
      ],
      "metadata": {
        "colab": {
          "base_uri": "https://localhost:8080/"
        },
        "id": "CMjfgj1a_YuU",
        "outputId": "8d4736b0-ab76-4ffd-9e55-fd32d2999563"
      },
      "execution_count": null,
      "outputs": [
        {
          "output_type": "stream",
          "name": "stdout",
          "text": [
            "1\n",
            "3\n",
            "5\n",
            "7\n",
            "9\n"
          ]
        }
      ]
    },
    {
      "cell_type": "code",
      "source": [
        "name = [\"harry\",\"shown\", \"jack\", \"tarbis\"]\n",
        "for i in name:\n",
        " if i.startswith(\"h\"):\n",
        "   print(\"Hello\", i)"
      ],
      "metadata": {
        "colab": {
          "base_uri": "https://localhost:8080/"
        },
        "id": "v-wvS--CAiea",
        "outputId": "485d753c-12ac-41db-a4fb-f6ee237f8905"
      },
      "execution_count": null,
      "outputs": [
        {
          "output_type": "stream",
          "name": "stdout",
          "text": [
            "Hello harry\n"
          ]
        }
      ]
    },
    {
      "cell_type": "code",
      "source": [
        "#small functions\n",
        "\n",
        "def greet(name):\n",
        "  print(\"good day\",name)\n",
        "\n",
        "greet(\"mj\")"
      ],
      "metadata": {
        "colab": {
          "base_uri": "https://localhost:8080/"
        },
        "id": "Vcc5k5CepL3X",
        "outputId": "288ccf68-a750-40d3-9288-1f7d5b9b4695"
      },
      "execution_count": null,
      "outputs": [
        {
          "output_type": "stream",
          "name": "stdout",
          "text": [
            "good day mj\n"
          ]
        }
      ]
    },
    {
      "cell_type": "code",
      "source": [
        "def aveg(sum):\n",
        "  return sum/n\n",
        "sum = 0\n",
        "n = int(input(\"Enter the marks list no. :\"))\n",
        "for i in range(1,n+1):\n",
        "  marks = int(input(\"Marks :\"))\n",
        "  sum = sum + marks\n",
        "\n",
        "aveg(sum)\n",
        "\n"
      ],
      "metadata": {
        "colab": {
          "base_uri": "https://localhost:8080/"
        },
        "id": "pGue5finpqTo",
        "outputId": "1af4a0d7-a9f1-4cd9-9222-2f33672ff1fb"
      },
      "execution_count": null,
      "outputs": [
        {
          "name": "stdout",
          "output_type": "stream",
          "text": [
            "Enter the marks list no. :3\n",
            "Marks :24\n",
            "Marks :18\n",
            "Marks :23\n"
          ]
        },
        {
          "output_type": "execute_result",
          "data": {
            "text/plain": [
              "21.666666666666668"
            ]
          },
          "metadata": {},
          "execution_count": 2
        }
      ]
    },
    {
      "cell_type": "code",
      "source": [
        "def sum(num1,num2):\n",
        "  sum = 0\n",
        "  sum = num1 + num2\n",
        "  return sum\n",
        "sum(3,6)"
      ],
      "metadata": {
        "id": "NK0ndwtDsPMC"
      },
      "execution_count": null,
      "outputs": []
    },
    {
      "cell_type": "code",
      "source": [
        "# project - snake , water and gun Game..\n",
        "\n",
        "import random\n",
        "\n",
        "def Game(comp,you):\n",
        "  if  comp == you:\n",
        "    return None\n",
        "  elif comp == 's':\n",
        "    if you == 'w':\n",
        "      return False\n",
        "    elif you == 'g':\n",
        "      return True\n",
        "  elif comp == 'w':\n",
        "    if you == 'g':\n",
        "      return False\n",
        "    elif you == 's':\n",
        "      return True\n",
        "  elif comp == 'g':\n",
        "    if you == 's':\n",
        "      return False\n",
        "    elif you == 'w':\n",
        "      return True\n",
        "\n",
        "random_num = random.randint(1,3)\n",
        "print(\"Computer's Turn : Snake(s),Gun(g),Water(w)...?\")\n",
        "if random_num == 1:\n",
        "  comp ='s'\n",
        "elif random_num == 2:\n",
        "  comp = 'g'\n",
        "elif random_num == 3:\n",
        "  comp = 'w'\n",
        "\n",
        "you = input(\"your turn : snake(s),Gun(g),water(w)...? : \")\n",
        "\n",
        "play = Game(comp,you)\n",
        "\n",
        "print(f\"computer chosse : {comp}\")\n",
        "print(f\"you chosse : {you}\")\n",
        "if play == None:\n",
        "  print(\"Match tie\")\n",
        "elif play == True:\n",
        "  print(\"You won the match..!!\")\n",
        "else:\n",
        "  print(\"Opps you lost...\")\n",
        "\n"
      ],
      "metadata": {
        "colab": {
          "base_uri": "https://localhost:8080/"
        },
        "id": "Y7_A3sYPIWQp",
        "outputId": "f50fdce5-0b81-4015-fca9-62305ae202ea"
      },
      "execution_count": null,
      "outputs": [
        {
          "output_type": "stream",
          "name": "stdout",
          "text": [
            "Computer's Turn : Snake(s),Gun(g),Water(w)...?\n",
            "your turn : snake(s),Gun(g),water(w)...? : g\n",
            "computer chosse : g\n",
            "you chosse : g\n",
            "Match tie\n"
          ]
        }
      ]
    },
    {
      "cell_type": "markdown",
      "source": [
        "***modules***"
      ],
      "metadata": {
        "id": "LWGWF6vcVM7o"
      }
    },
    {
      "cell_type": "code",
      "source": [
        "import math"
      ],
      "metadata": {
        "id": "d2Hk5Pm6VKYn"
      },
      "execution_count": null,
      "outputs": []
    },
    {
      "cell_type": "code",
      "source": [
        "math.sqrt(4)"
      ],
      "metadata": {
        "colab": {
          "base_uri": "https://localhost:8080/"
        },
        "id": "xjlVXpRh_uvb",
        "outputId": "5a0d2029-eb91-4bd5-aad6-330c6cdca8ff"
      },
      "execution_count": null,
      "outputs": [
        {
          "output_type": "execute_result",
          "data": {
            "text/plain": [
              "2.0"
            ]
          },
          "metadata": {},
          "execution_count": 4
        }
      ]
    },
    {
      "cell_type": "code",
      "source": [
        "math.pow(3,3)"
      ],
      "metadata": {
        "colab": {
          "base_uri": "https://localhost:8080/"
        },
        "id": "Bu0Nfllk_0HF",
        "outputId": "421e8fc0-6981-4de8-ae77-3ae84346bb5f"
      },
      "execution_count": null,
      "outputs": [
        {
          "output_type": "execute_result",
          "data": {
            "text/plain": [
              "27.0"
            ]
          },
          "metadata": {},
          "execution_count": 5
        }
      ]
    },
    {
      "cell_type": "code",
      "source": [],
      "metadata": {
        "id": "YglbGdao_6_Z"
      },
      "execution_count": null,
      "outputs": []
    },
    {
      "cell_type": "code",
      "source": [
        "dir(math)"
      ],
      "metadata": {
        "id": "fts4krb5VyRE"
      },
      "execution_count": null,
      "outputs": []
    },
    {
      "cell_type": "code",
      "source": [
        "math.pi"
      ],
      "metadata": {
        "id": "gHYvowziWAum",
        "colab": {
          "base_uri": "https://localhost:8080/"
        },
        "outputId": "b742d896-6b23-4233-dc0c-76028ee0677c"
      },
      "execution_count": null,
      "outputs": [
        {
          "output_type": "execute_result",
          "data": {
            "text/plain": [
              "3.141592653589793"
            ]
          },
          "metadata": {},
          "execution_count": 6
        }
      ]
    },
    {
      "cell_type": "code",
      "source": [
        "math.log10(100)"
      ],
      "metadata": {
        "colab": {
          "base_uri": "https://localhost:8080/"
        },
        "id": "c12rEmK_AU2X",
        "outputId": "1d1b9b77-07f5-4662-f856-c97416aedcb9"
      },
      "execution_count": null,
      "outputs": [
        {
          "output_type": "execute_result",
          "data": {
            "text/plain": [
              "2.0"
            ]
          },
          "metadata": {},
          "execution_count": 7
        }
      ]
    },
    {
      "cell_type": "code",
      "source": [
        "math.floor(2.3)"
      ],
      "metadata": {
        "colab": {
          "base_uri": "https://localhost:8080/"
        },
        "id": "IoJuQf85AfVi",
        "outputId": "3b788b54-0626-4a17-f571-cdab5b530a4f"
      },
      "execution_count": null,
      "outputs": [
        {
          "output_type": "execute_result",
          "data": {
            "text/plain": [
              "2"
            ]
          },
          "metadata": {},
          "execution_count": 8
        }
      ]
    },
    {
      "cell_type": "code",
      "source": [
        "math.ceil(2.3)"
      ],
      "metadata": {
        "colab": {
          "base_uri": "https://localhost:8080/"
        },
        "id": "-h_5PZFhAlec",
        "outputId": "94741028-158b-475f-cfa9-79ca92aaa0f0"
      },
      "execution_count": null,
      "outputs": [
        {
          "output_type": "execute_result",
          "data": {
            "text/plain": [
              "3"
            ]
          },
          "metadata": {},
          "execution_count": 10
        }
      ]
    },
    {
      "cell_type": "code",
      "source": [
        "#using calander"
      ],
      "metadata": {
        "id": "CzxxLTrRAvTo"
      },
      "execution_count": null,
      "outputs": []
    },
    {
      "cell_type": "code",
      "source": [
        "import calendar"
      ],
      "metadata": {
        "id": "Z-OBjHpFA48d"
      },
      "execution_count": null,
      "outputs": []
    },
    {
      "cell_type": "code",
      "source": [
        "cal = calendar.month(2016,3)\n",
        "print(cal)"
      ],
      "metadata": {
        "colab": {
          "base_uri": "https://localhost:8080/"
        },
        "id": "ywDHNkVRBAvK",
        "outputId": "895c8ee7-4d37-45ab-e74b-bce598997f04"
      },
      "execution_count": null,
      "outputs": [
        {
          "output_type": "stream",
          "name": "stdout",
          "text": [
            "     March 2016\n",
            "Mo Tu We Th Fr Sa Su\n",
            "    1  2  3  4  5  6\n",
            " 7  8  9 10 11 12 13\n",
            "14 15 16 17 18 19 20\n",
            "21 22 23 24 25 26 27\n",
            "28 29 30 31\n",
            "\n"
          ]
        }
      ]
    },
    {
      "cell_type": "code",
      "source": [
        "calendar.isleap(2022)"
      ],
      "metadata": {
        "colab": {
          "base_uri": "https://localhost:8080/"
        },
        "id": "_nMKfUDBBRMp",
        "outputId": "4be7f0a2-44a4-4fe2-ea9f-21c4a2d03325"
      },
      "execution_count": null,
      "outputs": [
        {
          "output_type": "execute_result",
          "data": {
            "text/plain": [
              "False"
            ]
          },
          "metadata": {},
          "execution_count": 15
        }
      ]
    },
    {
      "cell_type": "code",
      "source": [
        "dir(calendar)"
      ],
      "metadata": {
        "id": "zxQUPUzkBi93"
      },
      "execution_count": null,
      "outputs": []
    },
    {
      "cell_type": "code",
      "source": [
        "#writhing own module"
      ],
      "metadata": {
        "id": "siQFcuM3BzUT"
      },
      "execution_count": null,
      "outputs": []
    },
    {
      "cell_type": "code",
      "source": [
        "def area(base,height):\n",
        "  return  1/2 *(base*height)"
      ],
      "metadata": {
        "id": "y43rvg7PDGsL"
      },
      "execution_count": null,
      "outputs": []
    },
    {
      "cell_type": "code",
      "source": [
        "a = area(5,4)\n",
        "print(a)"
      ],
      "metadata": {
        "colab": {
          "base_uri": "https://localhost:8080/"
        },
        "id": "UARM4nGdDIpq",
        "outputId": "c9af2d40-7cb3-4be7-8972-de3c90eeb9bb"
      },
      "execution_count": null,
      "outputs": [
        {
          "output_type": "stream",
          "name": "stdout",
          "text": [
            "10.0\n"
          ]
        }
      ]
    },
    {
      "cell_type": "code",
      "source": [
        "#working with jeson"
      ],
      "metadata": {
        "id": "pT303B_LEeEa"
      },
      "execution_count": null,
      "outputs": []
    },
    {
      "cell_type": "code",
      "source": [
        "book = {}\n",
        "book ['tom'] = {\n",
        "    'name' : 'tom',\n",
        "    'address' : '1 red street, NY',\n",
        "    'phone' : 763687829\n",
        "}\n",
        "\n",
        "book ['bob'] = {\n",
        "    'name' : 'bob',\n",
        "    'address' : '1 green street, NY',\n",
        "    'phone' : 674962936\n",
        "\n",
        "}\n",
        "\n",
        "import json\n",
        "s = json.dumps(book)\n",
        "with open (\"C:\\\\Users\\\\DCL\\\\Desktop\\\\Courses\\\\data\\\\books.txt\",\"w\") as f:\n",
        "  f.write(s)\n"
      ],
      "metadata": {
        "id": "fuJk9uh-FXz0"
      },
      "execution_count": null,
      "outputs": []
    },
    {
      "cell_type": "code",
      "source": [
        "book = {}\n",
        "book ['tom'] = {\n",
        "    'name' : 'tom',\n",
        "    'address' : '1 red street, NY',\n",
        "    'phone' : 763687829\n",
        "}\n",
        "\n",
        "book ['bob'] = {\n",
        "    'name' : 'bob',\n",
        "    'address' : '1 green street, NY',\n",
        "    'phone' : 674962936\n",
        "\n",
        "}\n",
        "\n",
        "import json\n",
        "s = json.dumps(book)\n",
        "print(s)"
      ],
      "metadata": {
        "colab": {
          "base_uri": "https://localhost:8080/"
        },
        "id": "J6goVstZIo8q",
        "outputId": "8e35ce5f-19ad-4dd7-a448-c289ad86fe71"
      },
      "execution_count": null,
      "outputs": [
        {
          "output_type": "stream",
          "name": "stdout",
          "text": [
            "{\"tom\": {\"name\": \"tom\", \"address\": \"1 red street, NY\", \"phone\": 763687829}, \"bob\": {\"name\": \"bob\", \"address\": \"1 green street, NY\", \"phone\": 674962936}}\n"
          ]
        }
      ]
    },
    {
      "cell_type": "code",
      "source": [
        "f = open(\"C:\\\\Users\\\\DCL\\\\Desktop\\\\Courses\\\\data\\\\books.txt\",\"r\")\n",
        "string = f.read()\n",
        "string"
      ],
      "metadata": {
        "colab": {
          "base_uri": "https://localhost:8080/",
          "height": 53
        },
        "id": "4PUgvlr0I6Fg",
        "outputId": "7332f85d-a869-40a3-ea0a-29de1e1586c4"
      },
      "execution_count": null,
      "outputs": [
        {
          "output_type": "execute_result",
          "data": {
            "text/plain": [
              "'{\"tom\": {\"name\": \"tom\", \"address\": \"1 red street, NY\", \"phone\": 763687829}, \"bob\": {\"name\": \"bob\", \"address\": \"1 green street, NY\", \"phone\": 674962936}}'"
            ],
            "application/vnd.google.colaboratory.intrinsic+json": {
              "type": "string"
            }
          },
          "metadata": {},
          "execution_count": 28
        }
      ]
    },
    {
      "cell_type": "code",
      "source": [
        "book = json.loads(string)\n",
        "book"
      ],
      "metadata": {
        "colab": {
          "base_uri": "https://localhost:8080/"
        },
        "id": "wP2u6VxCJg-N",
        "outputId": "6a20d636-e1e3-4c89-b4d7-fd1055001878"
      },
      "execution_count": null,
      "outputs": [
        {
          "output_type": "execute_result",
          "data": {
            "text/plain": [
              "{'tom': {'name': 'tom', 'address': '1 red street, NY', 'phone': 763687829},\n",
              " 'bob': {'name': 'bob', 'address': '1 green street, NY', 'phone': 674962936}}"
            ]
          },
          "metadata": {},
          "execution_count": 29
        }
      ]
    },
    {
      "cell_type": "code",
      "source": [
        "book ['bob']['phone']"
      ],
      "metadata": {
        "colab": {
          "base_uri": "https://localhost:8080/"
        },
        "id": "BL0-01dTJrQn",
        "outputId": "e80e51f4-ddb3-43b5-9960-e6fa61a067fd"
      },
      "execution_count": null,
      "outputs": [
        {
          "output_type": "execute_result",
          "data": {
            "text/plain": [
              "674962936"
            ]
          },
          "metadata": {},
          "execution_count": 30
        }
      ]
    },
    {
      "cell_type": "code",
      "source": [
        "for person in book:\n",
        "  print(book[person])"
      ],
      "metadata": {
        "colab": {
          "base_uri": "https://localhost:8080/"
        },
        "id": "RIP9PPAYJzYM",
        "outputId": "6a4036b9-1025-4c1e-f86a-0f5926a3a7ae"
      },
      "execution_count": null,
      "outputs": [
        {
          "output_type": "stream",
          "name": "stdout",
          "text": [
            "{'name': 'tom', 'address': '1 red street, NY', 'phone': 763687829}\n",
            "{'name': 'bob', 'address': '1 green street, NY', 'phone': 674962936}\n"
          ]
        }
      ]
    },
    {
      "cell_type": "code",
      "source": [],
      "metadata": {
        "id": "qiHnCQmEuENu"
      },
      "execution_count": null,
      "outputs": []
    },
    {
      "cell_type": "markdown",
      "source": [
        "***Dictionary exercies***"
      ],
      "metadata": {
        "id": "jDn2rRPzunSf"
      }
    },
    {
      "cell_type": "code",
      "source": [
        "import operator\n",
        "dic = {\n",
        "    1:2,\n",
        "    3:4,\n",
        "    4:3,\n",
        "    2:1,\n",
        "    0:0\n",
        "}\n",
        "print(\"original dictonary : \",dic)\n"
      ],
      "metadata": {
        "colab": {
          "base_uri": "https://localhost:8080/"
        },
        "id": "3pymlJujuvGm",
        "outputId": "0fea5d81-d307-4862-9a2a-c93b84679b89"
      },
      "execution_count": null,
      "outputs": [
        {
          "output_type": "stream",
          "name": "stdout",
          "text": [
            "original dictonary :  {1: 2, 3: 4, 4: 3, 2: 1, 0: 0}\n"
          ]
        }
      ]
    },
    {
      "cell_type": "code",
      "source": [
        "sorted_dic = sorted(dic.items(),key = operator.itemgetter(1))\n",
        "print(\"Dictonary in ascending order by value : \",sorted_dic)"
      ],
      "metadata": {
        "colab": {
          "base_uri": "https://localhost:8080/"
        },
        "id": "spqlG9ZQxpzg",
        "outputId": "97df650e-ca47-41ce-fe05-6f6babefc067"
      },
      "execution_count": null,
      "outputs": [
        {
          "output_type": "stream",
          "name": "stdout",
          "text": [
            "Dictonary in ascending order by value :  [(0, 0), (2, 1), (1, 2), (4, 3), (3, 4)]\n"
          ]
        }
      ]
    },
    {
      "cell_type": "code",
      "source": [
        "sorted_dic = dict ( sorted(dic.items(), key = operator.itemgetter(1),reverse = True))\n",
        "print(\"Dictonary in descending order : \",sorted_dic)"
      ],
      "metadata": {
        "colab": {
          "base_uri": "https://localhost:8080/"
        },
        "id": "7FTv5hheyj2j",
        "outputId": "d9f56a8e-b568-40e2-e52b-703c7428dfeb"
      },
      "execution_count": null,
      "outputs": [
        {
          "output_type": "stream",
          "name": "stdout",
          "text": [
            "Dictonary in descending order :  {3: 4, 4: 3, 1: 2, 2: 1, 0: 0}\n"
          ]
        }
      ]
    },
    {
      "cell_type": "code",
      "source": [
        "dir(operator)"
      ],
      "metadata": {
        "id": "uWAg-LJuzeqp"
      },
      "execution_count": null,
      "outputs": []
    },
    {
      "cell_type": "code",
      "source": [
        "#adding key to dictonary\n",
        "\n",
        "d = {\n",
        "    0: 10,\n",
        "    1: 20,\n",
        "}\n",
        "print(d)\n",
        "d.update({\n",
        "    2:30\n",
        "})\n",
        "print(d)"
      ],
      "metadata": {
        "colab": {
          "base_uri": "https://localhost:8080/"
        },
        "id": "wTCk0Blsz0KT",
        "outputId": "4f0b006f-c11e-4b79-c6e6-f22527183e7f"
      },
      "execution_count": null,
      "outputs": [
        {
          "output_type": "stream",
          "name": "stdout",
          "text": [
            "{0: 10, 1: 20}\n",
            "{0: 10, 1: 20, 2: 30}\n"
          ]
        }
      ]
    },
    {
      "cell_type": "code",
      "source": [
        "#Write a Python script to concatenate the following dictionaries to create a new one."
      ],
      "metadata": {
        "id": "UUQlNYDrH33i"
      },
      "execution_count": null,
      "outputs": []
    },
    {
      "cell_type": "code",
      "source": [
        "# concatanateing dictonarires\n",
        "dic1 = { 1:10, 2: 20}\n",
        "dic2 = { 3: 30, 4:40}\n",
        "dic3 = { 5: 50, 6: 60}\n",
        "dic4 = {}\n",
        "for item in (dic1, dic2,dic3):\n",
        "  dic4.update(item)\n",
        "print(dic4)"
      ],
      "metadata": {
        "colab": {
          "base_uri": "https://localhost:8080/"
        },
        "id": "fYjViQjf1V9a",
        "outputId": "5723f5aa-1eeb-4efc-e0f6-93607fe0d894"
      },
      "execution_count": null,
      "outputs": [
        {
          "output_type": "stream",
          "name": "stdout",
          "text": [
            "{1: 10, 2: 20, 3: 30, 4: 40, 5: 50, 6: 60}\n"
          ]
        }
      ]
    },
    {
      "cell_type": "code",
      "source": [
        "#Write a Python script to check whether a given key already exists in a dictionary."
      ],
      "metadata": {
        "id": "VVi6bV12H0Mv"
      },
      "execution_count": null,
      "outputs": []
    },
    {
      "cell_type": "code",
      "source": [
        "dic5 = {1: 10, 2: 20, 3: 30, 4: 40, 5: 50, 6: 60}\n",
        "def is_key_present(x):\n",
        "  if x in dic5:\n",
        "    print(\"key is present in the dictonary\")\n",
        "  else :\n",
        "    print( \"key is not present...\")\n",
        "  return x\n",
        "\n",
        "is_key_present(5)\n"
      ],
      "metadata": {
        "colab": {
          "base_uri": "https://localhost:8080/"
        },
        "id": "K3zpmTNa8lTH",
        "outputId": "05863333-fbcc-434b-b626-98714ea3157f"
      },
      "execution_count": null,
      "outputs": [
        {
          "output_type": "stream",
          "name": "stdout",
          "text": [
            "key is present in the dictonary\n"
          ]
        },
        {
          "output_type": "execute_result",
          "data": {
            "text/plain": [
              "5"
            ]
          },
          "metadata": {},
          "execution_count": 13
        }
      ]
    },
    {
      "cell_type": "code",
      "source": [
        "# Write a Python program to iterate over dictionaries using for loops"
      ],
      "metadata": {
        "id": "FWr-whTzHpqW"
      },
      "execution_count": null,
      "outputs": []
    },
    {
      "cell_type": "code",
      "source": [
        "d = { 'x':10, 'y': 20, 'z':30}\n",
        "for dict_key,dict_value in d.items():\n",
        "  print(dict_key, '->',dict_value)\n",
        "print(d.items())"
      ],
      "metadata": {
        "colab": {
          "base_uri": "https://localhost:8080/"
        },
        "id": "1goCtADy9qzr",
        "outputId": "a55054d8-6eba-4bbd-9022-435716e58d40"
      },
      "execution_count": null,
      "outputs": [
        {
          "output_type": "stream",
          "name": "stdout",
          "text": [
            "x -> 10\n",
            "y -> 20\n",
            "z -> 30\n",
            "dict_items([('x', 10), ('y', 20), ('z', 30)])\n"
          ]
        }
      ]
    },
    {
      "cell_type": "code",
      "source": [
        "#Write a Python script to generate and print a dictionary that contains a number (between 1 and n) in the form (x, x*x)"
      ],
      "metadata": {
        "id": "g79GpPLDGtKo"
      },
      "execution_count": null,
      "outputs": []
    },
    {
      "cell_type": "code",
      "source": [
        "n = int(input(\"Enter a number : \"))\n",
        "d = dict()\n",
        "\n",
        "for x in range(1,n+1):\n",
        "  d[x]=x*x\n",
        "\n",
        "print(d)"
      ],
      "metadata": {
        "colab": {
          "base_uri": "https://localhost:8080/"
        },
        "id": "4PDhWi5GGyWk",
        "outputId": "621d8854-4bc6-4e26-ae78-5fdd03f966ee"
      },
      "execution_count": null,
      "outputs": [
        {
          "output_type": "stream",
          "name": "stdout",
          "text": [
            "Enter a number : 3\n",
            "{1: 1, 2: 4, 3: 9}\n"
          ]
        }
      ]
    },
    {
      "cell_type": "code",
      "source": [
        "d = dict()\n",
        "for x in range(1,16):\n",
        "  d[x] = x**2\n",
        "print(d)"
      ],
      "metadata": {
        "colab": {
          "base_uri": "https://localhost:8080/"
        },
        "id": "hOO6aOV-H8BQ",
        "outputId": "f78037ac-6975-46cf-a45d-53b00a2bbcce"
      },
      "execution_count": null,
      "outputs": [
        {
          "output_type": "stream",
          "name": "stdout",
          "text": [
            "{1: 1, 2: 4, 3: 9, 4: 16, 5: 25, 6: 36, 7: 49, 8: 64, 9: 81, 10: 100, 11: 121, 12: 144, 13: 169, 14: 196, 15: 225}\n"
          ]
        }
      ]
    },
    {
      "cell_type": "code",
      "source": [
        "#Write a Python script to merge two Python dictionaries"
      ],
      "metadata": {
        "id": "GFSbWJT-J7WT"
      },
      "execution_count": null,
      "outputs": []
    },
    {
      "cell_type": "code",
      "source": [
        "dic1 = { 1:3, 4:0, 5:3 }\n",
        "dic2 = { 6:1, 7:9, 1:4 }\n",
        "dic1.update(dic2)\n",
        "print(dic1)"
      ],
      "metadata": {
        "colab": {
          "base_uri": "https://localhost:8080/"
        },
        "id": "P_Fl2Sb6IVR8",
        "outputId": "00b2fa58-c37e-4383-c49a-8d5f85ea60ba"
      },
      "execution_count": null,
      "outputs": [
        {
          "output_type": "stream",
          "name": "stdout",
          "text": [
            "{1: 4, 4: 0, 5: 3, 6: 1, 7: 9}\n"
          ]
        }
      ]
    },
    {
      "cell_type": "code",
      "source": [
        "# this will apply when we have more than 2 dictionaries\n",
        "dic3 = {}\n",
        "for item in (dic1,dic2):\n",
        "  dic3.update(item)\n",
        "print(dic3)"
      ],
      "metadata": {
        "colab": {
          "base_uri": "https://localhost:8080/"
        },
        "id": "wajYgrOhJZOd",
        "outputId": "3d62ac06-746a-4334-b4fe-1ec14f185f3e"
      },
      "execution_count": null,
      "outputs": [
        {
          "output_type": "stream",
          "name": "stdout",
          "text": [
            "{1: 4, 4: 0, 5: 3, 6: 1, 7: 9}\n"
          ]
        }
      ]
    },
    {
      "cell_type": "code",
      "source": [
        "d = dic1.copy()\n",
        "d.update(dic2)\n",
        "print(d)"
      ],
      "metadata": {
        "colab": {
          "base_uri": "https://localhost:8080/"
        },
        "id": "JLD6AtS1J9Y3",
        "outputId": "49ba6fc5-2452-48dc-acaf-efefaea9cf66"
      },
      "execution_count": null,
      "outputs": [
        {
          "output_type": "stream",
          "name": "stdout",
          "text": [
            "{1: 4, 4: 0, 5: 3, 6: 1, 7: 9}\n"
          ]
        }
      ]
    },
    {
      "cell_type": "code",
      "source": [
        "d = {'Red' : 1, 'Green': 2, 'Blue': 3}\n",
        "for color_key, value in d.items():\n",
        "  print(color_key,'corresponding to ', d[color_key])"
      ],
      "metadata": {
        "colab": {
          "base_uri": "https://localhost:8080/"
        },
        "id": "EL8GVDppb5Me",
        "outputId": "abc2e551-688d-4d38-d4fd-757172f31ddc"
      },
      "execution_count": null,
      "outputs": [
        {
          "output_type": "stream",
          "name": "stdout",
          "text": [
            "Red corresponding to  1\n",
            "Green corresponding to  2\n",
            "Blue corresponding to  3\n"
          ]
        }
      ]
    },
    {
      "cell_type": "code",
      "source": [
        "d = { 'a' : 12, 'b': 23, 'c': 34}\n",
        "for alpha_key,value in d.items():\n",
        "  print(alpha_key,\"corrosponding to\",d[alpha_key])"
      ],
      "metadata": {
        "colab": {
          "base_uri": "https://localhost:8080/"
        },
        "id": "glGMfcIFdnEE",
        "outputId": "82e0c1b7-425f-42ba-b0f8-3acf135e2c44"
      },
      "execution_count": null,
      "outputs": [
        {
          "output_type": "stream",
          "name": "stdout",
          "text": [
            "a corrosponding to 12\n",
            "b corrosponding to 23\n",
            "c corrosponding to 34\n"
          ]
        }
      ]
    },
    {
      "cell_type": "code",
      "source": [
        "my_dict = {'data1': 100, 'data2': -54, 'data3' : 247 }\n",
        "print(sum(my_dict.values()))"
      ],
      "metadata": {
        "colab": {
          "base_uri": "https://localhost:8080/"
        },
        "id": "viqFApjCeO3p",
        "outputId": "32274f2d-6267-4350-86b8-4f33038889f8"
      },
      "execution_count": null,
      "outputs": [
        {
          "output_type": "stream",
          "name": "stdout",
          "text": [
            "293\n"
          ]
        }
      ]
    },
    {
      "cell_type": "code",
      "source": [
        "result = 1\n",
        "for key in my_dict:\n",
        "  result = result *my_dict[key]\n",
        "\n",
        "print(result)"
      ],
      "metadata": {
        "colab": {
          "base_uri": "https://localhost:8080/"
        },
        "id": "2ZvzYeaqfZhz",
        "outputId": "ba5c9129-705d-42ef-c138-1494fd20af1f"
      },
      "execution_count": null,
      "outputs": [
        {
          "output_type": "stream",
          "name": "stdout",
          "text": [
            "-1333800\n"
          ]
        }
      ]
    },
    {
      "cell_type": "code",
      "source": [
        "# Write a Python program to remove a key from a dictionary."
      ],
      "metadata": {
        "id": "ekvtj3ZbfxT_"
      },
      "execution_count": null,
      "outputs": []
    },
    {
      "cell_type": "code",
      "source": [
        "myDict = { 'a': 1, 'b': 2,'c': 3,'d': 4}\n",
        "print(myDict)\n",
        "if 'a' in myDict:\n",
        "  del myDict['a']\n",
        "print(myDict)"
      ],
      "metadata": {
        "colab": {
          "base_uri": "https://localhost:8080/"
        },
        "id": "kcjZLzJofyrV",
        "outputId": "e77c236d-ec82-4c2f-82d2-f0bb64f19d31"
      },
      "execution_count": null,
      "outputs": [
        {
          "output_type": "stream",
          "name": "stdout",
          "text": [
            "{'a': 1, 'b': 2, 'c': 3, 'd': 4}\n",
            "{'b': 2, 'c': 3, 'd': 4}\n"
          ]
        }
      ]
    },
    {
      "cell_type": "code",
      "source": [
        "# Write a Python program to map two lists into a dictionary."
      ],
      "metadata": {
        "id": "1m5yOIL959uy"
      },
      "execution_count": null,
      "outputs": []
    },
    {
      "cell_type": "code",
      "source": [
        "keys = ['red','green', 'blue']\n",
        "values = ['#FF0000','#00800','#0000FF']\n",
        "color_dictonary = dict(zip(keys,values))\n",
        "print(color_dictonary)"
      ],
      "metadata": {
        "colab": {
          "base_uri": "https://localhost:8080/"
        },
        "id": "oabls4Xv5FW1",
        "outputId": "d1d1752b-edb2-4043-bbe7-4bab17a29fa4"
      },
      "execution_count": null,
      "outputs": [
        {
          "output_type": "stream",
          "name": "stdout",
          "text": [
            "{'red': '#FF0000', 'green': '#00800', 'blue': '#0000FF'}\n"
          ]
        }
      ]
    },
    {
      "cell_type": "code",
      "source": [
        "# Write a Python program to sort a given dictionary by key."
      ],
      "metadata": {
        "id": "cMKe-LrZ7j_9"
      },
      "execution_count": null,
      "outputs": []
    },
    {
      "cell_type": "code",
      "source": [
        "color_dictonary = {'red': '#FF0000',\n",
        "                   'green': '#00800',\n",
        "                   'blue': '#0000FF'\n",
        "                   }\n",
        "for key in sorted(color_dictonary):\n",
        "  print(\"%s:%s\" % (key,color_dictonary[key]))"
      ],
      "metadata": {
        "colab": {
          "base_uri": "https://localhost:8080/"
        },
        "id": "BY-KdVWa6EBO",
        "outputId": "20f8449a-b403-4442-cf3f-7351039d3872"
      },
      "execution_count": null,
      "outputs": [
        {
          "output_type": "stream",
          "name": "stdout",
          "text": [
            "blue:#0000FF\n",
            "green:#00800\n",
            "red:#FF0000\n"
          ]
        }
      ]
    },
    {
      "cell_type": "code",
      "source": [
        "# Write a Python program to get the maximum and minimum values of a dictionary."
      ],
      "metadata": {
        "id": "DJO5ahG-7fPA"
      },
      "execution_count": null,
      "outputs": []
    },
    {
      "cell_type": "code",
      "source": [
        "my_dict = {'x': 500, 'y': 5874, 'z':560}\n",
        "\n",
        "key_max = max (my_dict.keys(), key =(lambda k: my_dict[k]))\n",
        "key_min = min (my_dict.keys(), key =(lambda k: my_dict[k]))\n",
        "print(\"maximum Value\", my_dict[key_max])\n",
        "print(\"Minmun Value\", my_dict[key_min])"
      ],
      "metadata": {
        "colab": {
          "base_uri": "https://localhost:8080/"
        },
        "id": "RYwYq1aP8ceG",
        "outputId": "4513c2d8-f0c3-4cde-b000-ba4e56992fa2"
      },
      "execution_count": null,
      "outputs": [
        {
          "output_type": "stream",
          "name": "stdout",
          "text": [
            "maximum Value 5874\n",
            "Minmun Value 500\n"
          ]
        }
      ]
    },
    {
      "cell_type": "code",
      "source": [
        "my_dict = { 8: 'mj', 10: \"showvik\", 6 : \"mahabub\"}\n",
        "for key in sorted(my_dict):\n",
        "  print('%s:%s'%(key,my_dict[key]))"
      ],
      "metadata": {
        "colab": {
          "base_uri": "https://localhost:8080/"
        },
        "id": "FBrEtP8-OH9J",
        "outputId": "32f364ab-9dc7-4ab7-9745-5188db8e9c71"
      },
      "execution_count": null,
      "outputs": [
        {
          "output_type": "stream",
          "name": "stdout",
          "text": [
            "6:mahabub\n",
            "8:mj\n",
            "10:showvik\n"
          ]
        }
      ]
    },
    {
      "cell_type": "code",
      "source": [
        "# Write a Python program to get a dictionary from an object's fields."
      ],
      "metadata": {
        "id": "HVyckkzRQVtP"
      },
      "execution_count": null,
      "outputs": []
    },
    {
      "cell_type": "code",
      "source": [
        "class dictObj(object):\n",
        "    def __init__(self):\n",
        "      self.x = 'red'\n",
        "      self.y = 'green'\n",
        "      self.z = 'yellow'\n",
        "test = dictObj()\n",
        "print(test.__dict__)"
      ],
      "metadata": {
        "colab": {
          "base_uri": "https://localhost:8080/"
        },
        "id": "VTfs5q-tR5kf",
        "outputId": "bcd978a7-eeb0-456d-ef65-352c70f4cd77"
      },
      "execution_count": null,
      "outputs": [
        {
          "output_type": "stream",
          "name": "stdout",
          "text": [
            "{'x': 'red', 'y': 'green', 'z': 'yellow'}\n"
          ]
        }
      ]
    },
    {
      "cell_type": "code",
      "source": [
        "# Write a Python program to remove duplicates from the dictionary\n",
        "student_data = {\n",
        "    'id1':{'name':['sara'],\n",
        "          'class': ['V'],\n",
        "          'subject_integration': ['english','math','science']\n",
        "},\n",
        "  'id2':{\n",
        "      'name': ['david'],\n",
        "      'class' : ['V'],\n",
        "      'subject_integration': ['english','math','science']\n",
        "  },\n",
        "\n",
        "  'id3':{'name':['sara'],\n",
        "          'class': ['V'],\n",
        "          'subject_integration': ['english','math','science']\n",
        "},\n",
        "  'id4': {\n",
        "      'name':['suriya'],\n",
        "      'class': ['V'],\n",
        "      'subject_integration': ['english','math','science']\n",
        "  }\n",
        "\n",
        "}\n",
        "result = {}\n",
        "for key,value in student_data.items():\n",
        "  if value not in result.values():\n",
        "    result[key] = value\n",
        "print(result)\n",
        "\n",
        "\n"
      ],
      "metadata": {
        "colab": {
          "base_uri": "https://localhost:8080/"
        },
        "id": "uaxT44JPd8t6",
        "outputId": "eaccea3e-8efe-44cd-83f7-5deaed1bec61"
      },
      "execution_count": null,
      "outputs": [
        {
          "output_type": "stream",
          "name": "stdout",
          "text": [
            "{'id1': {'name': ['sara'], 'class': ['V'], 'subject_integration': ['english', 'math', 'science']}, 'id2': {'name': ['david'], 'class': ['V'], 'subject_integration': ['english', 'math', 'science']}, 'id4': {'name': ['suriya'], 'class': ['V'], 'subject_integration': ['english', 'math', 'science']}}\n"
          ]
        }
      ]
    },
    {
      "cell_type": "code",
      "source": [
        "my_dict = {'id1': 3}\n",
        "\n",
        "if not bool(my_dict):\n",
        "  print(\"dictionary is empty\")\n",
        "else:\n",
        "  print(my_dict.values())"
      ],
      "metadata": {
        "colab": {
          "base_uri": "https://localhost:8080/"
        },
        "id": "qclVuaKfjDnr",
        "outputId": "342d682f-6e7d-4ffb-dffe-5b303aaa789b"
      },
      "execution_count": null,
      "outputs": [
        {
          "output_type": "stream",
          "name": "stdout",
          "text": [
            "dict_values([3])\n"
          ]
        }
      ]
    },
    {
      "cell_type": "code",
      "source": [
        "# Write a Python program to combine two dictionary by adding values for common keys.\n",
        "from collections import Counter\n",
        "d1 = {'a' : 100, 'b' : 200, 'c' : 300}\n",
        "d2 = { 'a' : 300, 'b' : 200, 'c' : 400}\n",
        "\n",
        "d = Counter(d1) + Counter (d2)\n",
        "print(d)\n",
        "for i in sorted(d):\n",
        " print('%s %s'% (i,d[i]))"
      ],
      "metadata": {
        "colab": {
          "base_uri": "https://localhost:8080/"
        },
        "id": "ERLITe7wnZQx",
        "outputId": "aa905f96-e3f2-42eb-8f7a-6f991a5af0a7"
      },
      "execution_count": null,
      "outputs": [
        {
          "output_type": "stream",
          "name": "stdout",
          "text": [
            "Counter({'c': 700, 'a': 400, 'b': 400})\n",
            "a 400\n",
            "b 400\n",
            "c 700\n"
          ]
        }
      ]
    },
    {
      "cell_type": "code",
      "source": [
        "# Write a Python program to print all distinct values in a dictionary.\n",
        "l = [{\"V\":\"S001\"}, {\"V\": \"S002\"}, {\"VI\": \"S001\"}, {\"VI\": \"S005\"}, {\"VII\":\"S005\"}, {\"V\":\"S009\"},{\"VIII\":\"S007\"}]\n",
        "print(\"original list: \",l)\n",
        "u_value = set(val for dic in l for val in dic.values())\n",
        "print(\"Unique Values: \",u_value)"
      ],
      "metadata": {
        "colab": {
          "base_uri": "https://localhost:8080/"
        },
        "id": "ynSLIHIYpEgh",
        "outputId": "ebb4c6d4-7dce-450f-9f9b-cf8ed64ad93b"
      },
      "execution_count": null,
      "outputs": [
        {
          "output_type": "stream",
          "name": "stdout",
          "text": [
            "original list:  [{'V': 'S001'}, {'V': 'S002'}, {'VI': 'S001'}, {'VI': 'S005'}, {'VII': 'S005'}, {'V': 'S009'}, {'VIII': 'S007'}]\n",
            "Unique Values:  {'S009', 'S002', 'S005', 'S001', 'S007'}\n"
          ]
        }
      ]
    },
    {
      "cell_type": "code",
      "source": [
        "# Write a Python program to create and display all combinations of letters, selecting each letter from a different key in a dictionary.\n",
        "import itertools\n",
        "d_data = { '1' : ['a','b'],\n",
        "          '2' : ['c','d']}\n",
        "for combo in itertools.product(*[d_data[k] for k in sorted(d_data.keys())]):\n",
        "  print(''.join(combo))\n"
      ],
      "metadata": {
        "id": "NvcNm82nTjGc"
      },
      "execution_count": null,
      "outputs": []
    },
    {
      "cell_type": "code",
      "source": [
        "# Write a Python program to find the highest 3 values of corresponding keys in a dictionary."
      ],
      "metadata": {
        "id": "z6itiS8MXpLw"
      },
      "execution_count": null,
      "outputs": []
    },
    {
      "cell_type": "code",
      "source": [
        "from heapq import nlargest\n",
        "my_dict = { 'a': 500, 'b': 5874, 'c': 560, 'd': 400, 'e' : 5874, 'f' : 20 }\n",
        "three_largest = nlargest(3,my_dict, key = my_dict.get)\n",
        "print(three_largest)"
      ],
      "metadata": {
        "colab": {
          "base_uri": "https://localhost:8080/"
        },
        "id": "-9ZokYgWX4VY",
        "outputId": "247eeb8d-1da7-4372-d12a-7b49740216f5"
      },
      "execution_count": null,
      "outputs": [
        {
          "output_type": "stream",
          "name": "stdout",
          "text": [
            "['b', 'e', 'c']\n"
          ]
        }
      ]
    },
    {
      "cell_type": "code",
      "source": [
        "dir(itertools)"
      ],
      "metadata": {
        "id": "T9771bjSZwmN"
      },
      "execution_count": null,
      "outputs": []
    },
    {
      "cell_type": "code",
      "source": [
        "# Write a Python program to combine values in a list of dictionaries."
      ],
      "metadata": {
        "id": "JQvmFgTMaG-9"
      },
      "execution_count": null,
      "outputs": []
    },
    {
      "cell_type": "code",
      "source": [
        "from collections import Counter\n",
        "item_list = [{'item': 'item1', 'amount': 400}, {'item': 'item2', 'amount': 300}, {'item': 'item1', 'amount': 750}]\n",
        "result = Counter()\n",
        "for i in item_list:\n",
        "  result[i['item']] += i['amount']\n",
        "print(result)"
      ],
      "metadata": {
        "colab": {
          "base_uri": "https://localhost:8080/"
        },
        "id": "EwIPE2cYbZb2",
        "outputId": "61a9f35a-d1bc-4337-d599-627ca9445348"
      },
      "execution_count": null,
      "outputs": [
        {
          "output_type": "stream",
          "name": "stdout",
          "text": [
            "Counter({'item1': 1150, 'item2': 300})\n"
          ]
        }
      ]
    },
    {
      "cell_type": "code",
      "source": [
        "# Write a Python program to create a dictionary from a string.\n",
        "from collections import defaultdict, Counter\n",
        "str1 = \"Mahabub jamil Showvik\"\n",
        "\n",
        "my_dict = {}\n",
        "for letter in str1:\n",
        "  my_dict[letter] = my_dict.get(letter,0) + 1\n",
        "print(my_dict)"
      ],
      "metadata": {
        "colab": {
          "base_uri": "https://localhost:8080/"
        },
        "id": "-5r5dsFfyMsx",
        "outputId": "4527a4ac-aef8-40ac-9e23-486036235d42"
      },
      "execution_count": null,
      "outputs": [
        {
          "output_type": "stream",
          "name": "stdout",
          "text": [
            "{'M': 1, 'a': 3, 'h': 2, 'b': 2, 'u': 1, ' ': 2, 'j': 1, 'm': 1, 'i': 2, 'l': 1, 'S': 1, 'o': 1, 'w': 1, 'v': 1, 'k': 1}\n"
          ]
        }
      ]
    },
    {
      "cell_type": "code",
      "source": [
        "my_dict = { 'c1': [1,2,3], 'c2':[5,6,7],\n",
        "           'c3': [9,10,11] }\n",
        "for row in zip(*([key] + (value) for key,value in sorted(my_dict.items()))):\n",
        "  print(*row)\n"
      ],
      "metadata": {
        "colab": {
          "base_uri": "https://localhost:8080/"
        },
        "id": "d6RsqenY1Kov",
        "outputId": "06e8a2bd-5f5d-4847-a821-ca151e8fb8c6"
      },
      "execution_count": null,
      "outputs": [
        {
          "output_type": "stream",
          "name": "stdout",
          "text": [
            "c1 c2 c3\n",
            "1 5 9\n",
            "2 6 10\n",
            "3 7 11\n"
          ]
        }
      ]
    },
    {
      "cell_type": "code",
      "source": [
        "# Write a Python program to count the values associated with a key in a dictionary.\n",
        "student = [{'id': 1, 'success': True, 'name': 'Lary'},\n",
        " {'id': 2, 'success': False, 'name': 'Rabi'},\n",
        " {'id': 3, 'success': True, 'name': 'Alex'}]\n",
        "\n",
        "print(sum(d['id'] for d in student))\n",
        "print(sum(d['success'] for d in student))"
      ],
      "metadata": {
        "colab": {
          "base_uri": "https://localhost:8080/"
        },
        "id": "u9J2zwXi8ocG",
        "outputId": "cf4220da-4f35-4451-f34b-80183e5df94a"
      },
      "execution_count": null,
      "outputs": [
        {
          "output_type": "stream",
          "name": "stdout",
          "text": [
            "6\n",
            "2\n"
          ]
        }
      ]
    },
    {
      "cell_type": "code",
      "source": [
        "#  Write a Python program to convert a list into a nested dictionary of keys.\n",
        "num_list = [1,2,3,4]\n",
        "new_dict = current = {}\n",
        "for name in num_list:\n",
        "  current[name] = {}\n",
        "  current = current [name]\n",
        "print(new_dict)"
      ],
      "metadata": {
        "colab": {
          "base_uri": "https://localhost:8080/"
        },
        "id": "bgyr0GaL9uV-",
        "outputId": "410809b5-f98b-4d5a-b802-b097615697b9"
      },
      "execution_count": null,
      "outputs": [
        {
          "output_type": "stream",
          "name": "stdout",
          "text": [
            "{1: {2: {3: {4: {}}}}}\n"
          ]
        }
      ]
    },
    {
      "cell_type": "code",
      "source": [
        "countryPopulation = { 'USA': 328_200_000, 'France': 67_000_000,'Chaina': 1_393_000_000}\n",
        "sorted_key = {k: v for k,v in sorted(countryPopulation.items())}\n",
        "sorted_val = {k: v for k,v in sorted(countryPopulation.items(),key = lambda v: v[1])}\n",
        "print(sorted_key)\n",
        "print(sorted_val)"
      ],
      "metadata": {
        "colab": {
          "base_uri": "https://localhost:8080/"
        },
        "id": "at8YI9lEYqG2",
        "outputId": "90802627-b8b5-4681-9866-9cc49408cda2"
      },
      "execution_count": null,
      "outputs": [
        {
          "output_type": "stream",
          "name": "stdout",
          "text": [
            "{'Chaina': 1393000000, 'France': 67000000, 'USA': 328200000}\n",
            "{'France': 67000000, 'USA': 328200000, 'Chaina': 1393000000}\n"
          ]
        }
      ]
    },
    {
      "cell_type": "code",
      "source": [
        "# Write a Python program to sort a list alphabetically in a dictionary.\n",
        "num = {'n4': [2, 3, 1], 'n2': [5, 1, 2], 'n3': [3, 2, 4]}\n",
        "sorted_dict = {x: sorted(y) for x,y in (num.items())}\n",
        "print(sorted_dict)"
      ],
      "metadata": {
        "colab": {
          "base_uri": "https://localhost:8080/"
        },
        "id": "JU7TfXJAdwKh",
        "outputId": "ddbe6200-52c4-4b5d-aa48-a76d10680e2a"
      },
      "execution_count": null,
      "outputs": [
        {
          "output_type": "stream",
          "name": "stdout",
          "text": [
            "{'n4': [1, 2, 3], 'n2': [1, 2, 5], 'n3': [2, 3, 4]}\n"
          ]
        }
      ]
    },
    {
      "cell_type": "code",
      "source": [
        "# Write a Python program to remove spaces from dictionary keys.\n",
        "student_list = {'S  001': ['Math', 'Science'], 'S    002': ['Math', 'English']}\n",
        "print(\"oroginal dictonary: \",student_list)\n",
        "student_dict = {x.translate({32: None}): y for x,y in student_list.items()}\n",
        "print(student_dict)"
      ],
      "metadata": {
        "colab": {
          "base_uri": "https://localhost:8080/"
        },
        "id": "Kl-41R9UgKVV",
        "outputId": "7ab3e7c1-42a0-405a-b495-eecdd484b876"
      },
      "execution_count": null,
      "outputs": [
        {
          "output_type": "stream",
          "name": "stdout",
          "text": [
            "oroginal dictonary:  {'S  001': ['Math', 'Science'], 'S    002': ['Math', 'English']}\n",
            "{'S001': ['Math', 'Science'], 'S002': ['Math', 'English']}\n"
          ]
        }
      ]
    },
    {
      "cell_type": "code",
      "source": [
        "# Write a Python program to get the top three items in a shop.\n",
        "from heapq import nlargest\n",
        "from operator import itemgetter\n",
        "item = {'item1': 45.50, 'item2':35, 'item3': 41.30, 'item4':55, 'item5': 24}\n",
        "for name, value in nlargest(3,item.items(),key = itemgetter(1)):\n",
        "  print(name,value)"
      ],
      "metadata": {
        "colab": {
          "base_uri": "https://localhost:8080/"
        },
        "id": "Rpu5VzddruBr",
        "outputId": "7d3a1795-0961-4054-eefd-c76e6fac1252"
      },
      "execution_count": null,
      "outputs": [
        {
          "output_type": "stream",
          "name": "stdout",
          "text": [
            "item4 55\n",
            "item1 45.5\n",
            "item3 41.3\n"
          ]
        }
      ]
    },
    {
      "cell_type": "code",
      "source": [
        "#for writing a file - it will over write\n",
        "day = open(\"C:\\\\Users\\\\DCL\\\\Desktop\\\\Courses\\\\day.txt\",\"w\")\n",
        "day.write(\"it is a nice day so far\")\n",
        "day.close()"
      ],
      "metadata": {
        "id": "_WNfXekLtvX8"
      },
      "execution_count": null,
      "outputs": []
    },
    {
      "cell_type": "code",
      "source": [
        "#for append a file - it will add to the file\n",
        "day = open(\"C:\\\\Users\\\\DCL\\\\Desktop\\\\Courses\\\\day.txt\",\"a\")\n",
        "day.write(\"\\n And i am very glad for that\")\n",
        "day.close()"
      ],
      "metadata": {
        "id": "_iHPo2Y4u3fM"
      },
      "execution_count": null,
      "outputs": []
    },
    {
      "cell_type": "code",
      "source": [
        "#for read a file - it will read the file\n",
        "day = open(\"C:\\\\Users\\\\DCL\\\\Desktop\\\\Courses\\\\day.txt\",\"r\")\n",
        "print(day.read())\n",
        "day.close()"
      ],
      "metadata": {
        "colab": {
          "base_uri": "https://localhost:8080/"
        },
        "id": "Yxji3gNWvy95",
        "outputId": "bdc207e7-8572-4da0-9f1c-5021eb88ab76"
      },
      "execution_count": null,
      "outputs": [
        {
          "output_type": "stream",
          "name": "stdout",
          "text": [
            "it is a nice day so farit is a nice day so far\n",
            " And i am very glad for that\n"
          ]
        }
      ]
    },
    {
      "cell_type": "code",
      "source": [
        "# line by line read\n",
        "day = open(\"C:\\\\Users\\\\DCL\\\\Desktop\\\\Courses\\\\day.txt\",\"r\")\n",
        "for line in day:\n",
        "  tokens = line.split(' ')\n",
        "  print(str(tokens))\n",
        "  print(len(tokens))\n",
        "day.close()"
      ],
      "metadata": {
        "colab": {
          "base_uri": "https://localhost:8080/"
        },
        "id": "u_1-sYHEwYpW",
        "outputId": "5a6187a2-7fec-487f-fbf0-67d92f7105b2"
      },
      "execution_count": null,
      "outputs": [
        {
          "output_type": "stream",
          "name": "stdout",
          "text": [
            "['it', 'is', 'a', 'nice', 'day', 'so', 'farit', 'is', 'a', 'nice', 'day', 'so', 'far\\n']\n",
            "13\n",
            "['', 'And', 'i', 'am', 'very', 'glad', 'for', 'that']\n",
            "8\n"
          ]
        }
      ]
    },
    {
      "cell_type": "code",
      "source": [
        "# get a output and print it to a new file\n",
        "day = open(\"C:\\\\Users\\\\DCL\\\\Desktop\\\\Courses\\\\day.txt\",\"r\")\n",
        "new_day = open( \"C:\\\\Users\\\\DCL\\\\Desktop\\\\Courses\\\\day.txt\",\"w\")\n",
        "for line in day:\n",
        "  tokens = line.split(' ')\n",
        "  new_day.write(\" word_count \" + str(len(tokens) +line))\n",
        "day.close()\n",
        "new_day.close()"
      ],
      "metadata": {
        "id": "tcymJ1sgy1SY"
      },
      "execution_count": null,
      "outputs": []
    },
    {
      "cell_type": "markdown",
      "source": [
        "**Exception_handling**"
      ],
      "metadata": {
        "id": "ZMNt7L_sNiDp"
      }
    },
    {
      "cell_type": "code",
      "source": [
        "#exception handling is when error occures try to fixed it.\n",
        "\n",
        "1/0\n"
      ],
      "metadata": {
        "colab": {
          "base_uri": "https://localhost:8080/",
          "height": 200
        },
        "id": "7phzL3_INog-",
        "outputId": "b91d173c-fccd-483d-9c1a-986dbe5bbeb1"
      },
      "execution_count": null,
      "outputs": [
        {
          "output_type": "error",
          "ename": "ZeroDivisionError",
          "evalue": "ignored",
          "traceback": [
            "\u001b[0;31m---------------------------------------------------------------------------\u001b[0m",
            "\u001b[0;31mZeroDivisionError\u001b[0m                         Traceback (most recent call last)",
            "\u001b[0;32m<ipython-input-4-76f65e2806a1>\u001b[0m in \u001b[0;36m<module>\u001b[0;34m\u001b[0m\n\u001b[1;32m      1\u001b[0m \u001b[0;31m#exception handling is when error occures try to fixed it.\u001b[0m\u001b[0;34m\u001b[0m\u001b[0;34m\u001b[0m\u001b[0;34m\u001b[0m\u001b[0m\n\u001b[1;32m      2\u001b[0m \u001b[0;34m\u001b[0m\u001b[0m\n\u001b[0;32m----> 3\u001b[0;31m \u001b[0;36m1\u001b[0m\u001b[0;34m/\u001b[0m\u001b[0;36m0\u001b[0m\u001b[0;34m\u001b[0m\u001b[0;34m\u001b[0m\u001b[0m\n\u001b[0m",
            "\u001b[0;31mZeroDivisionError\u001b[0m: division by zero"
          ]
        }
      ]
    },
    {
      "cell_type": "code",
      "source": [
        "\"abc\" + 3"
      ],
      "metadata": {
        "colab": {
          "base_uri": "https://localhost:8080/",
          "height": 165
        },
        "id": "s1snNpHKOwow",
        "outputId": "9c73a68a-e662-480b-c79c-035282fff718"
      },
      "execution_count": null,
      "outputs": [
        {
          "output_type": "error",
          "ename": "TypeError",
          "evalue": "ignored",
          "traceback": [
            "\u001b[0;31m---------------------------------------------------------------------------\u001b[0m",
            "\u001b[0;31mTypeError\u001b[0m                                 Traceback (most recent call last)",
            "\u001b[0;32m<ipython-input-3-af3ece1f07ca>\u001b[0m in \u001b[0;36m<module>\u001b[0;34m\u001b[0m\n\u001b[0;32m----> 1\u001b[0;31m \u001b[0;34m\"abc\"\u001b[0m \u001b[0;34m+\u001b[0m \u001b[0;36m3\u001b[0m\u001b[0;34m\u001b[0m\u001b[0;34m\u001b[0m\u001b[0m\n\u001b[0m",
            "\u001b[0;31mTypeError\u001b[0m: can only concatenate str (not \"int\") to str"
          ]
        }
      ]
    },
    {
      "cell_type": "code",
      "source": [
        "x = input(\"Enter number1 :\")\n",
        "y = input(\"Enter number2 :\")\n",
        "try:\n",
        "  z = x/int(y)\n",
        "except ZeroDivisionError as e:\n",
        "  print(\"Division by zero exception\")\n",
        "  z = None\n",
        "except Exception as e:\n",
        "  print(\"exception type : \",type(e).__name__) # generic process of finding error name\n",
        "  z = None\n",
        "print(\"Division is :\", z)"
      ],
      "metadata": {
        "colab": {
          "base_uri": "https://localhost:8080/"
        },
        "id": "5gp-4LAKPKis",
        "outputId": "2be6b62e-afe5-46ce-e5ef-833ef429736e"
      },
      "execution_count": null,
      "outputs": [
        {
          "output_type": "stream",
          "name": "stdout",
          "text": [
            "Enter number1 :1\n",
            "Enter number2 :3\n",
            "exception type :  TypeError\n",
            "Division is : None\n"
          ]
        }
      ]
    },
    {
      "cell_type": "code",
      "source": [
        "a = input(\"Enter 1st number: \")\n",
        "b = input(\"Enter second Number :\")\n",
        "try:\n",
        "  sum = a + int(b)\n",
        "except Exception as e:\n",
        "  print('Exception type :',type(e).__name__)\n",
        "  sum = None"
      ],
      "metadata": {
        "colab": {
          "base_uri": "https://localhost:8080/"
        },
        "id": "S4CdRU12yOU5",
        "outputId": "8314d5c2-394e-4aad-d3e8-c918a40f2b1b"
      },
      "execution_count": null,
      "outputs": [
        {
          "output_type": "stream",
          "name": "stdout",
          "text": [
            "Enter 1st number: 3\n",
            "Enter second Number :\n",
            "Exception type : ValueError\n"
          ]
        }
      ]
    },
    {
      "cell_type": "code",
      "source": [
        "from logging import exception\n",
        "num1 = input(\"Enter a number : \")\n",
        "try:\n",
        "  sum = num1 + 5\n",
        "except TypeError as e:\n",
        "  print(\"Type error exception\")\n",
        "  sum = None\n",
        "print(\"The sum is :\", sum)"
      ],
      "metadata": {
        "colab": {
          "base_uri": "https://localhost:8080/"
        },
        "id": "TFJS73AtTA25",
        "outputId": "5bc2fb68-3213-4cbe-d3c3-ac1b01956776"
      },
      "execution_count": null,
      "outputs": [
        {
          "output_type": "stream",
          "name": "stdout",
          "text": [
            "Enter a number : 3\n",
            "Type error exception\n",
            "The sum is : None\n"
          ]
        }
      ]
    },
    {
      "cell_type": "markdown",
      "source": [
        "***Class and object***"
      ],
      "metadata": {
        "id": "nqOn7ToglWx9"
      }
    },
    {
      "cell_type": "code",
      "source": [
        "class Human:\n",
        "  def __init__(self,n,o):      # declearing proparties of class\n",
        "    self.name = n\n",
        "    self.occupation = o\n",
        "\n",
        "  def do_work(self):          #declearing methods of a class\n",
        "    if self.occupation == \"tennis player\":\n",
        "      print(self.name,\"plays tennis\")\n",
        "    elif self.occupation == \"actor\":\n",
        "      print(self.name,\"shoots a film\")\n",
        "  def speaks(self):\n",
        "    print(self.name,\"How are you ?\")\n",
        "\n",
        "tom = Human(\"tom cruise\",\"actor\")    #creating some instance and using class\n",
        "tom.do_work()\n",
        "tom.speaks()\n",
        "\n",
        "\n",
        "maria = Human(\"maria sharapova\", \"tennis player\")\n",
        "maria.do_work()\n",
        "maria.speaks()\n",
        "\n"
      ],
      "metadata": {
        "colab": {
          "base_uri": "https://localhost:8080/"
        },
        "id": "zS0JXomElD2_",
        "outputId": "491c24e7-aa08-46d8-e2f0-1d045c0b4816"
      },
      "execution_count": null,
      "outputs": [
        {
          "output_type": "stream",
          "name": "stdout",
          "text": [
            "tom cruise shoots a film\n",
            "tom cruise How are you ?\n",
            "maria sharapova plays tennis\n",
            "maria sharapova How are you ?\n"
          ]
        }
      ]
    },
    {
      "cell_type": "code",
      "source": [
        "# class\n",
        "\n",
        "class Human1:\n",
        "  def __init__(self,name,work):\n",
        "    self.name = name\n",
        "    self.work = work\n",
        "  def do_work(self):\n",
        "    if self.work == 'job':\n",
        "      print(self.name,\"works at company\")\n",
        "    elif self.work == 'student':\n",
        "      print(self.name,\"goes to college\")\n",
        "\n",
        "mj = Human1(\"mj\",\"job\")\n",
        "mj.do_work()\n",
        "\n",
        "\n"
      ],
      "metadata": {
        "colab": {
          "base_uri": "https://localhost:8080/"
        },
        "id": "LgMAh3Q5zHMo",
        "outputId": "27f3e809-8505-4526-9e8c-ecca8baaf18b"
      },
      "execution_count": null,
      "outputs": [
        {
          "output_type": "stream",
          "name": "stdout",
          "text": [
            "mj works at company\n"
          ]
        }
      ]
    },
    {
      "cell_type": "markdown",
      "source": [
        "***Inheritance***"
      ],
      "metadata": {
        "id": "sgSoCxonFkFs"
      }
    },
    {
      "cell_type": "code",
      "source": [
        "class Vehicle:\n",
        "  def general_useage(self):\n",
        "    print(\"general use : transportation\")\n",
        "\n",
        "\n",
        "class Car(Vehicle):\n",
        "  def __init__(self):\n",
        "    print(\"I am a car\")\n",
        "    self.wheels = 4\n",
        "    self.has_roof = True\n",
        "\n",
        "  def specific_usage(self):\n",
        "    print(\"specifinc use: commute to work, vacation with family\")\n",
        "\n",
        "class MotorCycle(Vehicle):\n",
        "  def __init__(self):\n",
        "    print(\"I am a motor cycle\")\n",
        "    self.wheels = 2\n",
        "    self.has_roof = False\n",
        "\n",
        "  def sepicific_usage(self):\n",
        "    print(\"specific use : road trip and bike raceing\")\n",
        "\n",
        "c = Car()\n",
        "c.general_useage()\n",
        "c.specific_usage()\n",
        "\n",
        "motor_cycle = MotorCycle()\n",
        "motor_cycle.general_useage()\n",
        "motor_cycle.sepicific_usage()"
      ],
      "metadata": {
        "colab": {
          "base_uri": "https://localhost:8080/"
        },
        "id": "yHHnZwvEFgVl",
        "outputId": "fc273a71-8247-4776-d1cb-864c7439ffb7"
      },
      "execution_count": null,
      "outputs": [
        {
          "output_type": "stream",
          "name": "stdout",
          "text": [
            "I am a car\n",
            "general use : transportation\n",
            "specifinc use: commute to work, vacation with family\n",
            "I am a motor cycle\n",
            "general use : transportation\n",
            "specific use : road trip and bike raceing\n"
          ]
        }
      ]
    },
    {
      "cell_type": "code",
      "source": [
        "#anoter way to call the parant class method\n",
        "class Vehicle:\n",
        "  def general_useage(self):\n",
        "    print(\"general use : transportation\")\n",
        "\n",
        "\n",
        "class Car(Vehicle):\n",
        "  def __init__(self):\n",
        "    print(\"I am a car\")\n",
        "    self.wheels = 4\n",
        "    self.has_roof = True\n",
        "\n",
        "  def specific_usage(self):\n",
        "    self.general_useage()\n",
        "    print(\"specifinc use: commute to work, vacation with family\")\n",
        "\n",
        "class MotorCycle(Vehicle):\n",
        "  def __init__(self):\n",
        "    print(\"I am a motor cycle\")\n",
        "    self.wheels = 2\n",
        "    self.has_roof = False\n",
        "\n",
        "  def sepicific_usage(self):\n",
        "    self.general_useage()\n",
        "    print(\"specific use : road trip and bike raceing\")\n",
        "\n",
        "c = Car()\n",
        "#c.general_useage()\n",
        "c.specific_usage()\n",
        "\n",
        "motor_cycle = MotorCycle()\n",
        "#motor_cycle.general_useage()\n",
        "motor_cycle.sepicific_usage()"
      ],
      "metadata": {
        "colab": {
          "base_uri": "https://localhost:8080/"
        },
        "id": "3WY40qlnML9-",
        "outputId": "89e2105a-d3c9-4be7-dce6-a4ad96d59ea3"
      },
      "execution_count": null,
      "outputs": [
        {
          "output_type": "stream",
          "name": "stdout",
          "text": [
            "I am a car\n",
            "general use : transportation\n",
            "specifinc use: commute to work, vacation with family\n",
            "I am a motor cycle\n",
            "general use : transportation\n",
            "specific use : road trip and bike raceing\n"
          ]
        }
      ]
    },
    {
      "cell_type": "code",
      "source": [
        "# finding instance of class and subclass\n",
        "print(isinstance(c,Car))\n",
        "print(issubclass(Car,Vehicle))\n",
        "print(isinstance(c,MotorCycle))\n",
        "print(isinstance(motor_cycle,MotorCycle))"
      ],
      "metadata": {
        "colab": {
          "base_uri": "https://localhost:8080/"
        },
        "id": "5_ECqaffNYM9",
        "outputId": "4bbe0b9e-4c0e-47a9-8e38-eeeb2e727038"
      },
      "execution_count": null,
      "outputs": [
        {
          "output_type": "stream",
          "name": "stdout",
          "text": [
            "True\n",
            "True\n",
            "False\n",
            "True\n"
          ]
        }
      ]
    },
    {
      "cell_type": "markdown",
      "source": [
        "***multiple_inheritance***"
      ],
      "metadata": {
        "id": "tMDQAh-zz4iA"
      }
    },
    {
      "cell_type": "code",
      "source": [
        "class Father():\n",
        "  def gardening(self):\n",
        "    print(\"I enjoy gardening\")\n",
        "\n",
        "class Mother():\n",
        "  def cooking(self):\n",
        "    print(\"I love cooking\")\n",
        "\n",
        "class Child(Father,Mother):\n",
        "  def sports(self):\n",
        "    print(\"I enjoy sports\")\n",
        "\n",
        "c = Child()\n",
        "c.gardening()\n",
        "c.cooking()\n",
        "c.sports()\n"
      ],
      "metadata": {
        "colab": {
          "base_uri": "https://localhost:8080/"
        },
        "id": "M-0Mb3ecz-NN",
        "outputId": "2ff7fffc-e088-4f87-8135-be28b1bdfca2"
      },
      "execution_count": null,
      "outputs": [
        {
          "output_type": "stream",
          "name": "stdout",
          "text": [
            "I enjoy gardening\n",
            "I love cooking\n",
            "I enjoy sports\n"
          ]
        }
      ]
    },
    {
      "cell_type": "code",
      "source": [
        "# same name methods inharitance\n",
        "class Father():\n",
        "  def skills(self):\n",
        "    print(\"gardening, programming\")\n",
        "\n",
        "class Mother():\n",
        "  def skills(self):\n",
        "    print(\"cooking,art\")\n",
        "\n",
        "class Child(Father,Mother):\n",
        "  def skills(self):\n",
        "    Father.skills(self)\n",
        "    Mother.skills(self)\n",
        "    print(\"sports\")\n",
        "\n",
        "c = Child()\n",
        "c.skills()\n"
      ],
      "metadata": {
        "colab": {
          "base_uri": "https://localhost:8080/"
        },
        "id": "WKbLtgvT3jQk",
        "outputId": "9fda65e6-7687-48dd-802c-7e804c69c7e8"
      },
      "execution_count": null,
      "outputs": [
        {
          "output_type": "stream",
          "name": "stdout",
          "text": [
            "gardening, programming\n",
            "cooking,art\n",
            "sports\n"
          ]
        }
      ]
    },
    {
      "cell_type": "markdown",
      "source": [
        "**Raise_Exception**"
      ],
      "metadata": {
        "id": "UK2QbwEzFLS_"
      }
    },
    {
      "cell_type": "code",
      "source": [
        "try:\n",
        "  raise MemoryError(\"memory error\")\n",
        "except MemoryError as e:\n",
        "  print(e)"
      ],
      "metadata": {
        "colab": {
          "base_uri": "https://localhost:8080/"
        },
        "id": "_5dR3VutFK4Z",
        "outputId": "fd7215ef-064d-478e-8382-490162b41bc3"
      },
      "execution_count": null,
      "outputs": [
        {
          "output_type": "stream",
          "name": "stdout",
          "text": [
            "memory error\n"
          ]
        }
      ]
    },
    {
      "cell_type": "code",
      "source": [
        "#user defined exception using class\n",
        "class Accident(Exception):\n",
        "  def __init__(self,msg):\n",
        "    self.msg = msg\n",
        "  def print_Exception(self):\n",
        "    print(\"User defined exception\",self.msg)\n",
        "\n",
        "\n",
        "try:\n",
        "  raise Accident(\"Crash code\")\n",
        "except Accident as e:\n",
        "  e.print_Exception()"
      ],
      "metadata": {
        "colab": {
          "base_uri": "https://localhost:8080/"
        },
        "id": "e1bqV0nNHSPZ",
        "outputId": "80796fa0-5d72-4ca7-d78c-5c8c41f7f9c9"
      },
      "execution_count": null,
      "outputs": [
        {
          "output_type": "stream",
          "name": "stdout",
          "text": [
            "User defined exception Crash code\n"
          ]
        }
      ]
    },
    {
      "cell_type": "markdown",
      "source": [
        "**finally_statement**"
      ],
      "metadata": {
        "id": "LixAk91_NMp4"
      }
    },
    {
      "cell_type": "code",
      "source": [
        "#it will always execute code in finally block no metter what !!\n",
        "def process_file():\n",
        "  try:\n",
        "    f = open(\"path\")\n",
        "    x = 1/0\n",
        "  except FileNotFoundError as e:\n",
        "    print(\"inside except\")\n",
        "  finally:\n",
        "    print(\"cleaning up file\")\n",
        "    f.close()\n"
      ],
      "metadata": {
        "id": "q1gGI6dKNRUY"
      },
      "execution_count": null,
      "outputs": []
    },
    {
      "cell_type": "markdown",
      "source": [
        "**Build_in_iterators_methods**"
      ],
      "metadata": {
        "id": "-YXLIM0jRPLL"
      }
    },
    {
      "cell_type": "code",
      "source": [
        "a = ['hey', \" i \" ,'am ', 'mahabub']\n",
        "itr = iter(a)\n",
        "itr\n",
        "next(itr)\n",
        "next(itr)\n"
      ],
      "metadata": {
        "colab": {
          "base_uri": "https://localhost:8080/",
          "height": 35
        },
        "id": "fy9t0yA_RUrs",
        "outputId": "a82e18f7-6668-4b98-8473-93c9f6ec70d2"
      },
      "execution_count": null,
      "outputs": [
        {
          "output_type": "execute_result",
          "data": {
            "text/plain": [
              "' i '"
            ],
            "application/vnd.google.colaboratory.intrinsic+json": {
              "type": "string"
            }
          },
          "metadata": {},
          "execution_count": 11
        }
      ]
    },
    {
      "cell_type": "code",
      "source": [
        "itr = reversed(a)\n",
        "next(itr)\n",
        "next(itr)"
      ],
      "metadata": {
        "colab": {
          "base_uri": "https://localhost:8080/",
          "height": 35
        },
        "id": "-3aTbAR2SM-E",
        "outputId": "a8ae3175-1fc1-49f9-ece4-1edcd4c39c54"
      },
      "execution_count": null,
      "outputs": [
        {
          "output_type": "execute_result",
          "data": {
            "text/plain": [
              "'am '"
            ],
            "application/vnd.google.colaboratory.intrinsic+json": {
              "type": "string"
            }
          },
          "metadata": {},
          "execution_count": 14
        }
      ]
    },
    {
      "cell_type": "markdown",
      "source": [
        "**Remote_control_class**"
      ],
      "metadata": {
        "id": "kTpmUeimS8EW"
      }
    },
    {
      "cell_type": "code",
      "source": [
        "class Remot_control:\n",
        "  def __init__(self):\n",
        "    self.channels = [ \"HBO\", \"CNN\", 'N_tv']\n",
        "    self.index = -1\n",
        "\n",
        "  def __iter__(self):\n",
        "    return self\n",
        "\n",
        "  def __next__(self):\n",
        "    self.index += 1\n",
        "    if self.index == len(self.channels):\n",
        "      raise StopIteration\n",
        "\n",
        "    return self.channels[self.index]\n",
        "\n",
        "f = Remot_control()\n",
        "itr = iter(f)\n",
        "print(next(itr))\n",
        "print(next(itr))\n",
        "print(next(itr))\n",
        "print(next(itr))"
      ],
      "metadata": {
        "colab": {
          "base_uri": "https://localhost:8080/",
          "height": 373
        },
        "id": "zKFinLT_S6-O",
        "outputId": "ed483d49-3239-4c69-e424-7c64ee856ee3"
      },
      "execution_count": null,
      "outputs": [
        {
          "output_type": "stream",
          "name": "stdout",
          "text": [
            "HBO\n",
            "CNN\n",
            "N_tv\n"
          ]
        },
        {
          "output_type": "error",
          "ename": "StopIteration",
          "evalue": "ignored",
          "traceback": [
            "\u001b[0;31m---------------------------------------------------------------------------\u001b[0m",
            "\u001b[0;31mStopIteration\u001b[0m                             Traceback (most recent call last)",
            "\u001b[0;32m<ipython-input-15-29b6c8dabd3c>\u001b[0m in \u001b[0;36m<module>\u001b[0;34m\u001b[0m\n\u001b[1;32m     19\u001b[0m \u001b[0mprint\u001b[0m\u001b[0;34m(\u001b[0m\u001b[0mnext\u001b[0m\u001b[0;34m(\u001b[0m\u001b[0mitr\u001b[0m\u001b[0;34m)\u001b[0m\u001b[0;34m)\u001b[0m\u001b[0;34m\u001b[0m\u001b[0;34m\u001b[0m\u001b[0m\n\u001b[1;32m     20\u001b[0m \u001b[0mprint\u001b[0m\u001b[0;34m(\u001b[0m\u001b[0mnext\u001b[0m\u001b[0;34m(\u001b[0m\u001b[0mitr\u001b[0m\u001b[0;34m)\u001b[0m\u001b[0;34m)\u001b[0m\u001b[0;34m\u001b[0m\u001b[0;34m\u001b[0m\u001b[0m\n\u001b[0;32m---> 21\u001b[0;31m \u001b[0mprint\u001b[0m\u001b[0;34m(\u001b[0m\u001b[0mnext\u001b[0m\u001b[0;34m(\u001b[0m\u001b[0mitr\u001b[0m\u001b[0;34m)\u001b[0m\u001b[0;34m)\u001b[0m\u001b[0;34m\u001b[0m\u001b[0;34m\u001b[0m\u001b[0m\n\u001b[0m",
            "\u001b[0;32m<ipython-input-15-29b6c8dabd3c>\u001b[0m in \u001b[0;36m__next__\u001b[0;34m(self)\u001b[0m\n\u001b[1;32m     10\u001b[0m     \u001b[0mself\u001b[0m\u001b[0;34m.\u001b[0m\u001b[0mindex\u001b[0m \u001b[0;34m+=\u001b[0m \u001b[0;36m1\u001b[0m\u001b[0;34m\u001b[0m\u001b[0;34m\u001b[0m\u001b[0m\n\u001b[1;32m     11\u001b[0m     \u001b[0;32mif\u001b[0m \u001b[0mself\u001b[0m\u001b[0;34m.\u001b[0m\u001b[0mindex\u001b[0m \u001b[0;34m==\u001b[0m \u001b[0mlen\u001b[0m\u001b[0;34m(\u001b[0m\u001b[0mself\u001b[0m\u001b[0;34m.\u001b[0m\u001b[0mchannels\u001b[0m\u001b[0;34m)\u001b[0m\u001b[0;34m:\u001b[0m\u001b[0;34m\u001b[0m\u001b[0;34m\u001b[0m\u001b[0m\n\u001b[0;32m---> 12\u001b[0;31m       \u001b[0;32mraise\u001b[0m \u001b[0mStopIteration\u001b[0m\u001b[0;34m\u001b[0m\u001b[0;34m\u001b[0m\u001b[0m\n\u001b[0m\u001b[1;32m     13\u001b[0m \u001b[0;34m\u001b[0m\u001b[0m\n\u001b[1;32m     14\u001b[0m     \u001b[0;32mreturn\u001b[0m \u001b[0mself\u001b[0m\u001b[0;34m.\u001b[0m\u001b[0mchannels\u001b[0m\u001b[0;34m[\u001b[0m\u001b[0mself\u001b[0m\u001b[0;34m.\u001b[0m\u001b[0mindex\u001b[0m\u001b[0;34m]\u001b[0m\u001b[0;34m\u001b[0m\u001b[0;34m\u001b[0m\u001b[0m\n",
            "\u001b[0;31mStopIteration\u001b[0m: "
          ]
        }
      ]
    },
    {
      "cell_type": "markdown",
      "source": [
        "***Generator***"
      ],
      "metadata": {
        "id": "n_WlzQpF7wru"
      }
    },
    {
      "cell_type": "code",
      "source": [
        "def remote_control_next():\n",
        "  yield 'CNN' #yield work as return but it dont return all together,return seperately.\n",
        "  yield 'ESPN'\n",
        "\n",
        "itr = remote_control_next()\n",
        "next(itr)"
      ],
      "metadata": {
        "colab": {
          "base_uri": "https://localhost:8080/",
          "height": 35
        },
        "id": "10HNa9ZW75De",
        "outputId": "2e9de346-015d-4b2a-906a-af1b5d8a5d40"
      },
      "execution_count": null,
      "outputs": [
        {
          "output_type": "execute_result",
          "data": {
            "text/plain": [
              "'CNN'"
            ],
            "application/vnd.google.colaboratory.intrinsic+json": {
              "type": "string"
            }
          },
          "metadata": {},
          "execution_count": 3
        }
      ]
    },
    {
      "cell_type": "code",
      "source": [
        "def sum():\n",
        "  num1 = 5\n",
        "  num2 = 6\n",
        "  sum1 = num1+num2\n",
        "  mul = num1*num2\n",
        "  yield sum1\n",
        "  yield mul\n",
        "\n",
        "itr = sum()\n",
        "next(itr)\n",
        "next(itr)\n",
        "#another way\n",
        "for i in sum():\n",
        "  print(i)"
      ],
      "metadata": {
        "colab": {
          "base_uri": "https://localhost:8080/"
        },
        "id": "mTGnpunh-5b6",
        "outputId": "15c8455e-976d-46e5-b4f4-189003eb690d"
      },
      "execution_count": null,
      "outputs": [
        {
          "output_type": "stream",
          "name": "stdout",
          "text": [
            "11\n",
            "30\n"
          ]
        }
      ]
    },
    {
      "cell_type": "code",
      "source": [
        "def fib():\n",
        "  a,b = 0,1\n",
        "  while True:\n",
        "    yield a\n",
        "    a,b = b,a+b\n",
        "for f in fib():\n",
        "  if f>50:\n",
        "    break\n",
        "  print(f)"
      ],
      "metadata": {
        "colab": {
          "base_uri": "https://localhost:8080/"
        },
        "id": "KC9OodpfA9W-",
        "outputId": "bb87f6fb-325d-48d9-b5c7-3f89993452eb"
      },
      "execution_count": null,
      "outputs": [
        {
          "output_type": "stream",
          "name": "stdout",
          "text": [
            "0\n",
            "1\n",
            "1\n",
            "2\n",
            "3\n",
            "5\n",
            "8\n",
            "13\n",
            "21\n",
            "34\n"
          ]
        }
      ]
    },
    {
      "cell_type": "markdown",
      "source": [
        "***list_comprihension***"
      ],
      "metadata": {
        "id": "Dah5Zx2UCnwa"
      }
    },
    {
      "cell_type": "code",
      "source": [
        "#sample code\n",
        "numbers = [1,2,3,4,5,6]\n",
        "even = []\n",
        "for i in numbers:\n",
        "  if i %2 ==0:\n",
        "   even.append(i)\n",
        "print(even)"
      ],
      "metadata": {
        "colab": {
          "base_uri": "https://localhost:8080/"
        },
        "id": "J4c_wAsuCnKR",
        "outputId": "d0ea9cae-e854-4339-8c21-65d044bcde8d"
      },
      "execution_count": null,
      "outputs": [
        {
          "output_type": "stream",
          "name": "stdout",
          "text": [
            "[2, 4, 6]\n"
          ]
        }
      ]
    },
    {
      "cell_type": "code",
      "source": [
        "#comprihensive code\n",
        "even = [i for i in numbers if i%2==0]\n",
        "even"
      ],
      "metadata": {
        "colab": {
          "base_uri": "https://localhost:8080/"
        },
        "id": "02Ag9y3IDkl-",
        "outputId": "fde71ef4-02d8-4f53-f441-76fd77fcadb5"
      },
      "execution_count": null,
      "outputs": [
        {
          "output_type": "execute_result",
          "data": {
            "text/plain": [
              "[2, 4, 6]"
            ]
          },
          "metadata": {},
          "execution_count": 11
        }
      ]
    },
    {
      "cell_type": "code",
      "source": [
        "sqr_numbers=[i*i for i in numbers]\n",
        "sqr_numbers"
      ],
      "metadata": {
        "colab": {
          "base_uri": "https://localhost:8080/"
        },
        "id": "1k28v6gLETww",
        "outputId": "77bc1944-f121-4b05-e2ce-63213239dc8c"
      },
      "execution_count": null,
      "outputs": [
        {
          "output_type": "execute_result",
          "data": {
            "text/plain": [
              "[1, 4, 9, 16, 25, 36]"
            ]
          },
          "metadata": {},
          "execution_count": 12
        }
      ]
    },
    {
      "cell_type": "code",
      "source": [
        "#set comprihension\n",
        "\n",
        "s = set([1,2,3,3,4,6,7])\n",
        "s"
      ],
      "metadata": {
        "colab": {
          "base_uri": "https://localhost:8080/"
        },
        "id": "LId_oyyVEkN5",
        "outputId": "faefee4f-c4a6-4937-94d6-127616b34064"
      },
      "execution_count": null,
      "outputs": [
        {
          "output_type": "execute_result",
          "data": {
            "text/plain": [
              "{1, 2, 3, 4, 6, 7}"
            ]
          },
          "metadata": {},
          "execution_count": 13
        }
      ]
    },
    {
      "cell_type": "code",
      "source": [
        "even = {i for i in s if i%2==0}\n",
        "even"
      ],
      "metadata": {
        "colab": {
          "base_uri": "https://localhost:8080/"
        },
        "id": "cnLsV84uEwWr",
        "outputId": "1a6d9104-06ee-4f7e-f62b-f292b2b8f636"
      },
      "execution_count": null,
      "outputs": [
        {
          "output_type": "execute_result",
          "data": {
            "text/plain": [
              "{2, 4, 6}"
            ]
          },
          "metadata": {},
          "execution_count": 14
        }
      ]
    },
    {
      "cell_type": "code",
      "source": [
        "#dictonary comprihentaion\n",
        "cities = ['mumbai','new york','paris']\n",
        "countries = ['india','USA','France']\n",
        "z = zip(cities,countries)\n",
        "z\n",
        "for a in z:\n",
        "  print(a)\n"
      ],
      "metadata": {
        "colab": {
          "base_uri": "https://localhost:8080/"
        },
        "id": "QSSwS43aFGUm",
        "outputId": "2bd4e8e6-fe6f-4fa3-d2f6-b2c606465b36"
      },
      "execution_count": null,
      "outputs": [
        {
          "output_type": "stream",
          "name": "stdout",
          "text": [
            "('mumbai', 'india')\n",
            "('new york', 'USA')\n",
            "('paris', 'France')\n"
          ]
        }
      ]
    },
    {
      "cell_type": "code",
      "source": [
        "d = {country:city for city,country in zip(cities,countries)}\n",
        "d"
      ],
      "metadata": {
        "colab": {
          "base_uri": "https://localhost:8080/"
        },
        "id": "NBVm-UJuMCJD",
        "outputId": "be528936-6fab-4461-b9ff-08f0494fd137"
      },
      "execution_count": null,
      "outputs": [
        {
          "output_type": "execute_result",
          "data": {
            "text/plain": [
              "{'india': 'mumbai', 'USA': 'new york', 'France': 'paris'}"
            ]
          },
          "metadata": {},
          "execution_count": 21
        }
      ]
    },
    {
      "cell_type": "code",
      "source": [
        "#fozen set\n",
        "fs = frozenset({1,2,3,4})\n",
        "fs.add(7)"
      ],
      "metadata": {
        "colab": {
          "base_uri": "https://localhost:8080/",
          "height": 200
        },
        "id": "2IHXtfOJNJox",
        "outputId": "558b254d-99d1-4d5f-9583-130c17de3c4d"
      },
      "execution_count": null,
      "outputs": [
        {
          "output_type": "error",
          "ename": "AttributeError",
          "evalue": "ignored",
          "traceback": [
            "\u001b[0;31m---------------------------------------------------------------------------\u001b[0m",
            "\u001b[0;31mAttributeError\u001b[0m                            Traceback (most recent call last)",
            "\u001b[0;32m<ipython-input-22-6c4fbaf4f8b9>\u001b[0m in \u001b[0;36m<module>\u001b[0;34m\u001b[0m\n\u001b[1;32m      1\u001b[0m \u001b[0;31m#fozen set\u001b[0m\u001b[0;34m\u001b[0m\u001b[0;34m\u001b[0m\u001b[0;34m\u001b[0m\u001b[0m\n\u001b[1;32m      2\u001b[0m \u001b[0mfs\u001b[0m \u001b[0;34m=\u001b[0m \u001b[0mfrozenset\u001b[0m\u001b[0;34m(\u001b[0m\u001b[0;34m{\u001b[0m\u001b[0;36m1\u001b[0m\u001b[0;34m,\u001b[0m\u001b[0;36m2\u001b[0m\u001b[0;34m,\u001b[0m\u001b[0;36m3\u001b[0m\u001b[0;34m,\u001b[0m\u001b[0;36m4\u001b[0m\u001b[0;34m}\u001b[0m\u001b[0;34m)\u001b[0m\u001b[0;34m\u001b[0m\u001b[0;34m\u001b[0m\u001b[0m\n\u001b[0;32m----> 3\u001b[0;31m \u001b[0mfs\u001b[0m\u001b[0;34m.\u001b[0m\u001b[0madd\u001b[0m\u001b[0;34m(\u001b[0m\u001b[0;36m7\u001b[0m\u001b[0;34m)\u001b[0m\u001b[0;34m\u001b[0m\u001b[0;34m\u001b[0m\u001b[0m\n\u001b[0m",
            "\u001b[0;31mAttributeError\u001b[0m: 'frozenset' object has no attribute 'add'"
          ]
        }
      ]
    }
  ],
  "metadata": {
    "colab": {
      "provenance": [],
      "authorship_tag": "ABX9TyM+QNUXwuGXkMawdmH5knD+",
      "include_colab_link": true
    },
    "kernelspec": {
      "display_name": "Python 3",
      "name": "python3"
    },
    "language_info": {
      "name": "python"
    }
  },
  "nbformat": 4,
  "nbformat_minor": 0
}